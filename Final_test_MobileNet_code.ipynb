{
  "nbformat": 4,
  "nbformat_minor": 0,
  "metadata": {
    "colab": {
      "provenance": [],
      "authorship_tag": "ABX9TyPYu27kgQo5Hh4Sdf605Cni",
      "include_colab_link": true
    },
    "kernelspec": {
      "name": "python3",
      "display_name": "Python 3"
    },
    "language_info": {
      "name": "python"
    }
  },
  "cells": [
    {
      "cell_type": "markdown",
      "metadata": {
        "id": "view-in-github",
        "colab_type": "text"
      },
      "source": [
        "<a href=\"https://colab.research.google.com/github/yoon3515/Project/blob/master/Final_test_MobileNet_code.ipynb\" target=\"_parent\"><img src=\"https://colab.research.google.com/assets/colab-badge.svg\" alt=\"Open In Colab\"/></a>"
      ]
    },
    {
      "cell_type": "code",
      "execution_count": null,
      "metadata": {
        "id": "U9Cq6rF7HLCP"
      },
      "outputs": [],
      "source": [
        "import pandas as pd\n",
        "import numpy as np\n",
        "import random\n",
        "import shutil\n",
        "import albumentations\n",
        "import os\n",
        "import cv2\n",
        "import urllib.request\n",
        "from matplotlib.pyplot import imshow, subplots, title\n",
        "import matplotlib.pyplot as plt\n",
        "from PIL import Image\n",
        "import torch\n",
        "from torch.utils.data import Dataset, DataLoader\n",
        "import torchvision\n",
        "from torchvision import transforms\n",
        "from torchvision.models.detection.faster_rcnn import FastRCNNPredictor\n",
        "from torchvision.models.detection.mask_rcnn import MaskRCNNPredictor\n",
        "from google.colab.patches import cv2_imshow\n",
        "from google.colab import files\n",
        "import warnings\n",
        "warnings.filterwarnings('ignore')"
      ]
    },
    {
      "cell_type": "code",
      "source": [
        "import tensorflow as tf\n",
        "print(tf.__version__)"
      ],
      "metadata": {
        "colab": {
          "base_uri": "https://localhost:8080/"
        },
        "id": "N14i-jr6XR7M",
        "outputId": "ba06571b-894e-46aa-b8ec-0f854706a373"
      },
      "execution_count": null,
      "outputs": [
        {
          "output_type": "stream",
          "name": "stdout",
          "text": [
            "2.12.0\n"
          ]
        }
      ]
    },
    {
      "cell_type": "code",
      "source": [
        "## 파일 다운로드 코드 \n",
        "# zip 파일 생성\n",
        "!zip -r /content/practice.zip /content/practice/\n",
        "\n",
        "# 파일 다운로드\n",
        "files.download('/content/practice.zip')"
      ],
      "metadata": {
        "id": "tTuoSBJre3Z6"
      },
      "execution_count": null,
      "outputs": []
    },
    {
      "cell_type": "code",
      "source": [
        "# 폴더 삭제 코드\n",
        "\n",
        "# import shutil\n",
        "# shutil.rmtree('/content/train/conger')\n",
        "\n",
        "import os\n",
        "\n",
        "file_path = '/content/prac2'\n",
        "\n",
        "if os.path.exists(file_path) :\n",
        "  for file in os.scandir(file_path) :\n",
        "    os.remove(file.path)\n",
        "  print('Remove All File')\n",
        "else :\n",
        "  print('Directory Not Found')"
      ],
      "metadata": {
        "colab": {
          "base_uri": "https://localhost:8080/"
        },
        "id": "qCAS1_VQXBFb",
        "outputId": "f22d295a-f01f-40bd-d8a2-6af9d4a8828c"
      },
      "execution_count": null,
      "outputs": [
        {
          "output_type": "stream",
          "name": "stdout",
          "text": [
            "Remove All File\n"
          ]
        }
      ]
    },
    {
      "cell_type": "code",
      "source": [
        "import os\n",
        "\n",
        "file_path = '/content/practice'\n",
        "\n",
        "if os.path.exists(file_path) and os.path.isdir(file_path):\n",
        "  for file in os.listdir(file_path):\n",
        "    if os.path.isfile(os.path.join(file_path, file)):\n",
        "      os.remove(os.path.join(file_path, file))\n",
        "  print('Remove All File')\n",
        "else :\n",
        "  print('Directory Not Found')\n"
      ],
      "metadata": {
        "colab": {
          "base_uri": "https://localhost:8080/"
        },
        "id": "057THnKITTCX",
        "outputId": "db95b558-38dc-4089-a69b-66c8bde476a3"
      },
      "execution_count": null,
      "outputs": [
        {
          "output_type": "stream",
          "name": "stdout",
          "text": [
            "Remove All File\n"
          ]
        }
      ]
    },
    {
      "cell_type": "markdown",
      "source": [
        "# 폴더 생성"
      ],
      "metadata": {
        "id": "QSkStkpMHyQG"
      }
    },
    {
      "cell_type": "code",
      "source": [
        "train_path = '/content/train'\n",
        "test_path = '/content/test'\n",
        "vali_path = '/content/validation'\n",
        "random.seed(42)\n",
        "\n",
        "## test에 클래스 폴더 생성성\n",
        "Browncroaker_train_path = os.path.join(train_path, 'Browncroaker')\n",
        "Conger_train_path = os.path.join(train_path, 'Conger')\n",
        "Greenling_train_path = os.path.join(train_path, 'Greenling')\n",
        "Gurnard_train_path = os.path.join(train_path, 'Gurnard')\n",
        "Mudskipper_train_path = os.path.join(train_path, 'Mudskipper')\n",
        "Sillaginoid_train_path = os.path.join(train_path, 'Sillaginoid')\n",
        "\n",
        "os.makedirs(Browncroaker_train_path, exist_ok=True)\n",
        "os.makedirs(Conger_train_path, exist_ok=True)\n",
        "os.makedirs(Greenling_train_path, exist_ok=True)\n",
        "os.makedirs(Gurnard_train_path, exist_ok=True)\n",
        "os.makedirs(Mudskipper_train_path, exist_ok=True)\n",
        "os.makedirs(Sillaginoid_train_path, exist_ok=True)\n",
        "\n",
        "\n",
        "\n",
        "## test에 클래스 폴더 생성성\n",
        "Browncroaker_test_path = os.path.join(test_path, 'Browncroaker')\n",
        "Conger_test_path = os.path.join(test_path, 'Conger')\n",
        "Greenling_test_path = os.path.join(test_path, 'Greenling')\n",
        "Gurnard_test_path = os.path.join(test_path, 'Gurnard')\n",
        "Mudskipper_test_path = os.path.join(test_path, 'Mudskipper')\n",
        "Sillaginoid_test_path = os.path.join(test_path, 'Sillaginoid')\n",
        "\n",
        "os.makedirs(Browncroaker_test_path, exist_ok=True)\n",
        "os.makedirs(Conger_test_path, exist_ok=True)\n",
        "os.makedirs(Greenling_test_path, exist_ok=True)\n",
        "os.makedirs(Gurnard_test_path, exist_ok=True)\n",
        "os.makedirs(Mudskipper_test_path, exist_ok=True)\n",
        "os.makedirs(Sillaginoid_test_path, exist_ok=True)\n",
        "\n",
        "\n",
        "## validation에 클래스 폴더 생성성\n",
        "Browncroaker_vali_path = os.path.join(vali_path, 'Browncroaker')\n",
        "Conger_vali_path = os.path.join(vali_path, 'Conger')\n",
        "Greenling_vali_path = os.path.join(vali_path, 'Greenling')\n",
        "Gurnard_vali_path = os.path.join(vali_path, 'Gurnard')\n",
        "Mudskipper_vali_path = os.path.join(vali_path, 'Mudskipper')\n",
        "Sillaginoid_vali_path = os.path.join(vali_path, 'Sillaginoid')\n",
        "\n",
        "os.makedirs(Browncroaker_vali_path, exist_ok=True)\n",
        "os.makedirs(Conger_vali_path, exist_ok=True)\n",
        "os.makedirs(Greenling_vali_path, exist_ok=True)\n",
        "os.makedirs(Gurnard_vali_path, exist_ok=True)\n",
        "os.makedirs(Mudskipper_vali_path, exist_ok=True)\n",
        "os.makedirs(Sillaginoid_vali_path, exist_ok=True)"
      ],
      "metadata": {
        "id": "M3GzuqKSHXjm"
      },
      "execution_count": null,
      "outputs": []
    },
    {
      "cell_type": "code",
      "source": [
        "train_path = '/content/train'\n",
        "test_path = '/content/test'\n",
        "vali_path = '/content/validation'\n",
        "random.seed(42)\n",
        "\n",
        "## test에 클래스 폴더 생성성\n",
        "BlackBream_train_path = os.path.join(train_path, 'BlackBream')\n",
        "Halibut_train_path = os.path.join(train_path, 'Halibut')\n",
        "RedBream_train_path = os.path.join(train_path, 'RedBream')\n",
        "RockBream_train_path = os.path.join(train_path, 'RockBream')\n",
        "RockFish_train_path = os.path.join(train_path, 'RockFish')\n",
        "\n",
        "\n",
        "os.makedirs(BlackBream_train_path, exist_ok=True)\n",
        "os.makedirs(Halibut_train_path, exist_ok=True)\n",
        "os.makedirs(RedBream_train_path, exist_ok=True)\n",
        "os.makedirs(RockBream_train_path, exist_ok=True)\n",
        "os.makedirs(RockFish_train_path, exist_ok=True)\n",
        "\n",
        "\n",
        "\n",
        "\n",
        "## test에 클래스 폴더 생성성\n",
        "BlackBream_test_path = os.path.join(test_path, 'BlackBream')\n",
        "Halibut_test_path = os.path.join(test_path, 'Halibut')\n",
        "RedBream_test_path = os.path.join(test_path, 'RedBream')\n",
        "RockBream_test_path = os.path.join(test_path, 'RockBream')\n",
        "RockFish_test_path = os.path.join(test_path, 'RockFish')\n",
        "\n",
        "\n",
        "os.makedirs(BlackBream_test_path, exist_ok=True)\n",
        "os.makedirs(Halibut_test_path, exist_ok=True)\n",
        "os.makedirs(RedBream_test_path, exist_ok=True)\n",
        "os.makedirs(RockBream_test_path, exist_ok=True)\n",
        "os.makedirs(RockFish_test_path, exist_ok=True)\n",
        "\n",
        "\n",
        "\n",
        "## validation에 클래스 폴더 생성성\n",
        "BlackBream_vali_path = os.path.join(vali_path, 'BlackBream')\n",
        "Halibut_vali_path = os.path.join(vali_path, 'Halibut')\n",
        "RedBream_vali_path = os.path.join(vali_path, 'RedBream')\n",
        "RockBream_vali_path = os.path.join(vali_path, 'RockBream')\n",
        "RockFish_vali_path = os.path.join(vali_path, 'RockFish')\n",
        "\n",
        "os.makedirs(BlackBream_vali_path, exist_ok=True)\n",
        "os.makedirs(Halibut_vali_path, exist_ok=True)\n",
        "os.makedirs(RedBream_vali_path, exist_ok=True)\n",
        "os.makedirs(RockBream_vali_path, exist_ok=True)\n",
        "os.makedirs(RockFish_vali_path, exist_ok=True)\n"
      ],
      "metadata": {
        "id": "sgSdmrMU3dD6"
      },
      "execution_count": null,
      "outputs": []
    },
    {
      "cell_type": "markdown",
      "source": [
        "# 데이터 분할"
      ],
      "metadata": {
        "id": "f2oyvtWIIBsd"
      }
    },
    {
      "cell_type": "markdown",
      "source": [
        "## 1. Browncroaker"
      ],
      "metadata": {
        "id": "kTPzMjpzIDPk"
      }
    },
    {
      "cell_type": "code",
      "source": [
        "# data_browncroaker 남은 개수 확인\n",
        "browncroaker_path = '/content/train/Browncroaker'\n",
        "data_browncroaker_list = os.listdir(browncroaker_path)\n",
        "data_browncroaker_list = [file for file in data_browncroaker_list if file.endswith('.jpg')]\n",
        "len(data_browncroaker_list)"
      ],
      "metadata": {
        "id": "pEB5qMGfH7y1",
        "colab": {
          "base_uri": "https://localhost:8080/"
        },
        "outputId": "5fe6bc5c-ebeb-4791-f761-a5815764d551"
      },
      "execution_count": null,
      "outputs": [
        {
          "output_type": "execute_result",
          "data": {
            "text/plain": [
              "433"
            ]
          },
          "metadata": {},
          "execution_count": 4
        }
      ]
    },
    {
      "cell_type": "code",
      "source": [
        "## BrownCroaker 파일리스트 갖고오기\n",
        "browncroaker_path = '/content/train/Browncroaker'\n",
        "file_list = os.listdir(browncroaker_path)\n",
        "file_list = [file for file in file_list if file.endswith('.jpg')]\n",
        "\n",
        "\n",
        "#test 파일 분리(200장)\n",
        "# 200개의 이미지 파일을 랜덤으로 선택합니다.\n",
        "selected_files = random.sample(file_list, 100)\n",
        "\n",
        "# 선택된 이미지 파일을 test 폴더 하위의 browncroaker 폴더로 보내기. \n",
        "test_browncroaker_path = '/content/test/Browncroaker'\n",
        "for file_name in selected_files:\n",
        "    src = os.path.join(browncroaker_path, file_name)\n",
        "    dst = os.path.join(test_browncroaker_path, file_name)\n",
        "    shutil.move(src, dst)\n",
        "\n",
        "# test_browncroaker 개수 확인\n",
        "test_browncroaker_list = os.listdir(test_browncroaker_path)\n",
        "test_browncroaker_list = [file for file in test_browncroaker_list if file.endswith('.jpg')]\n",
        "len(test_browncroaker_list)"
      ],
      "metadata": {
        "id": "ALvDFEHrIKj1",
        "colab": {
          "base_uri": "https://localhost:8080/"
        },
        "outputId": "55fe2449-4ecd-4248-fc73-53dd2446a9d7"
      },
      "execution_count": null,
      "outputs": [
        {
          "output_type": "execute_result",
          "data": {
            "text/plain": [
              "100"
            ]
          },
          "metadata": {},
          "execution_count": 5
        }
      ]
    },
    {
      "cell_type": "code",
      "source": [
        "browncroaker_path = '/content/train/Browncroaker'\n",
        "file_list = os.listdir(browncroaker_path)\n",
        "file_list = [file for file in file_list if file.endswith('.jpg')]\n",
        "\n",
        "# validation으로 파일 분리(200장)\n",
        "# 200개의 이미지 파일을 랜덤으로 선택합니다.\n",
        "selected_files = random.sample(file_list, 100)\n",
        "\n",
        "# 선택된 이미지 파일을 validation 폴더 하위의 browncroaker 폴더로 보내기. \n",
        "vali_browncroaker_path = '/content/validation/Browncroaker'\n",
        "for file_name in selected_files:\n",
        "    src = os.path.join(browncroaker_path, file_name)\n",
        "    dst = os.path.join(vali_browncroaker_path, file_name)\n",
        "    shutil.move(src, dst)\n",
        "\n",
        "# vali_browncroaker 옮긴 개수 확인\n",
        "vali_browncroaker_list = os.listdir(vali_browncroaker_path)\n",
        "vali_browncroaker_list = [file for file in vali_browncroaker_list if file.endswith('.jpg')]\n",
        "len(vali_browncroaker_list)"
      ],
      "metadata": {
        "id": "pnVscqG6IO83",
        "colab": {
          "base_uri": "https://localhost:8080/"
        },
        "outputId": "295ec4c9-dfaf-4cda-d625-bc9bc2941de3"
      },
      "execution_count": null,
      "outputs": [
        {
          "output_type": "execute_result",
          "data": {
            "text/plain": [
              "100"
            ]
          },
          "metadata": {},
          "execution_count": 6
        }
      ]
    },
    {
      "cell_type": "code",
      "source": [
        "# data_browncroaker 남은 개수 확인\n",
        "data_browncroaker_list = os.listdir(browncroaker_path)\n",
        "data_browncroaker_list = [file for file in data_browncroaker_list if file.endswith('.jpg')]\n",
        "len(data_browncroaker_list)"
      ],
      "metadata": {
        "id": "VlReYGavIRl4",
        "colab": {
          "base_uri": "https://localhost:8080/"
        },
        "outputId": "1ed6a57a-3f72-4bdc-8555-1a4f3ade724c"
      },
      "execution_count": null,
      "outputs": [
        {
          "output_type": "execute_result",
          "data": {
            "text/plain": [
              "233"
            ]
          },
          "metadata": {},
          "execution_count": 7
        }
      ]
    },
    {
      "cell_type": "markdown",
      "source": [
        "## 2. Conger"
      ],
      "metadata": {
        "id": "IpMK5d0hITen"
      }
    },
    {
      "cell_type": "code",
      "source": [
        "# data_conger남은 개수 확인\n",
        "conger_path = '/content/train/Conger'\n",
        "data_conger_list = os.listdir(conger_path)\n",
        "data_conger_list = [file for file in data_conger_list if file.endswith('.png')]\n",
        "len(data_conger_list)"
      ],
      "metadata": {
        "colab": {
          "base_uri": "https://localhost:8080/"
        },
        "id": "EzrCXUZZITIs",
        "outputId": "e68ba478-d6b3-4ae4-a80e-7d90682713dd"
      },
      "execution_count": null,
      "outputs": [
        {
          "output_type": "execute_result",
          "data": {
            "text/plain": [
              "357"
            ]
          },
          "metadata": {},
          "execution_count": 8
        }
      ]
    },
    {
      "cell_type": "code",
      "source": [
        "## Conger 파일리스트 갖고오기\n",
        "conger_path = '/content/train/Conger'\n",
        "file_list = os.listdir(conger_path)\n",
        "file_list = [file for file in file_list if file.endswith('.png')]\n",
        "\n",
        "\n",
        "#test 파일 분리(20%)\n",
        "# 20%의 이미지 파일을 랜덤으로 선택합니다.\n",
        "selected_files = random.sample(file_list, 100)\n",
        "\n",
        "# 선택된 이미지 파일을 test 폴더 하위의 browncroaker 폴더로 보내기. \n",
        "test_conger_path = '/content/test/Conger'\n",
        "for file_name in selected_files:\n",
        "    src = os.path.join(conger_path, file_name)\n",
        "    dst = os.path.join(test_conger_path, file_name)\n",
        "    shutil.move(src, dst)\n",
        "\n",
        "# test_browncroaker 옮긴 개수 확인\n",
        "test_conger_path = '/content/test/Conger'\n",
        "test_conger_list = os.listdir(test_conger_path)\n",
        "test_conger_list = [file for file in test_conger_list if file.endswith('.png')]\n",
        "len(test_conger_list)"
      ],
      "metadata": {
        "id": "rMLzDPTExrdX",
        "colab": {
          "base_uri": "https://localhost:8080/"
        },
        "outputId": "2381b97f-efcb-4c2f-ecb7-afd9f723b887"
      },
      "execution_count": null,
      "outputs": [
        {
          "output_type": "execute_result",
          "data": {
            "text/plain": [
              "100"
            ]
          },
          "metadata": {},
          "execution_count": 9
        }
      ]
    },
    {
      "cell_type": "code",
      "source": [
        "conger_path = '/content/train/Conger'\n",
        "file_list = os.listdir(conger_path)\n",
        "file_list = [file for file in file_list if file.endswith('.png')]\n",
        "\n",
        "# validation으로 파일 분리(20%)\n",
        "# 20%의 이미지 파일을 선택합니다.\n",
        "selected_files = random.sample(file_list, 100)\n",
        "\n",
        "# 선택된 이미지 파일을 validation 폴더 하위의 conger 폴더로 보내기. \n",
        "vali_conger_path = '/content/validation/Conger'\n",
        "for file_name in selected_files:\n",
        "    src = os.path.join(conger_path, file_name)\n",
        "    dst = os.path.join(vali_conger_path, file_name)\n",
        "    shutil.move(src, dst)\n",
        "\n",
        "# vali_conger 옮긴 개수 확인\n",
        "vali_conger_list = os.listdir(vali_conger_path)\n",
        "vali_conger_list = [file for file in vali_conger_list if file.endswith('.png')]\n",
        "len(vali_conger_list)"
      ],
      "metadata": {
        "id": "_ft1i8rnxw_6",
        "colab": {
          "base_uri": "https://localhost:8080/"
        },
        "outputId": "83f2569c-a2d4-4c64-8a57-2a256af63942"
      },
      "execution_count": null,
      "outputs": [
        {
          "output_type": "execute_result",
          "data": {
            "text/plain": [
              "100"
            ]
          },
          "metadata": {},
          "execution_count": 10
        }
      ]
    },
    {
      "cell_type": "code",
      "source": [
        "# data_conger남은 개수 확인\n",
        "conger_path = '/content/train/Conger'\n",
        "data_conger_list = os.listdir(conger_path)\n",
        "data_conger_list = [file for file in data_conger_list if file.endswith('.png')]\n",
        "len(data_conger_list)"
      ],
      "metadata": {
        "id": "kJSV4vTVxyyN",
        "colab": {
          "base_uri": "https://localhost:8080/"
        },
        "outputId": "d7c5022c-45bc-4198-a574-e6009b0879a3"
      },
      "execution_count": null,
      "outputs": [
        {
          "output_type": "execute_result",
          "data": {
            "text/plain": [
              "157"
            ]
          },
          "metadata": {},
          "execution_count": 11
        }
      ]
    },
    {
      "cell_type": "markdown",
      "source": [
        "## 3. Greenling"
      ],
      "metadata": {
        "id": "-ILzlPQaikQD"
      }
    },
    {
      "cell_type": "code",
      "source": [
        "# data_greenling남은 개수 확인\n",
        "greenling_path = '/content/train/Greenling'\n",
        "data_greenling_list = os.listdir(greenling_path)\n",
        "data_greenling_list = [file for file in data_greenling_list if file.endswith('.png')]\n",
        "len(data_greenling_list)"
      ],
      "metadata": {
        "id": "OqhKGJBgWZK1",
        "colab": {
          "base_uri": "https://localhost:8080/"
        },
        "outputId": "1ab95e0d-0608-4f6a-ed3d-16b6d3c82d5a"
      },
      "execution_count": null,
      "outputs": [
        {
          "output_type": "execute_result",
          "data": {
            "text/plain": [
              "450"
            ]
          },
          "metadata": {},
          "execution_count": 12
        }
      ]
    },
    {
      "cell_type": "code",
      "source": [
        "## Conger 파일리스트 갖고오기\n",
        "greenling_path = '/content/train/Greenling'\n",
        "data_greenling_list = os.listdir(greenling_path)\n",
        "data_greenling_list = [file for file in data_greenling_list if file.endswith('.png')]\n",
        "\n",
        "\n",
        "#test 파일 분리(20%)\n",
        "# 20%의 이미지 파일을 랜덤으로 선택합니다.\n",
        "selected_files = random.sample(data_greenling_list, 100)\n",
        "\n",
        "\n",
        "# 선택된 이미지 파일을 test 폴더 하위의 greenling 폴더로 보내기. \n",
        "test_greenling_path = '/content/test/Greenling'\n",
        "for file_name in selected_files:\n",
        "    greenling_src = os.path.join(greenling_path, file_name)\n",
        "    greenling_dst = os.path.join(test_greenling_path, file_name)\n",
        "    try :\n",
        "      shutil.move(greenling_src, greenling_dst)\n",
        "    except :\n",
        "      print(f\"There's an error at {file_name}\")\n",
        "      continue\n",
        "\n",
        "# test_greenling 옮긴 개수 확인\n",
        "test_greenling_path = '/content/test/Greenling'\n",
        "test_greenling_list = os.listdir(test_greenling_path)\n",
        "test_greenling_list = [file for file in test_greenling_list if file.endswith('.png')]\n",
        "len(test_greenling_list)"
      ],
      "metadata": {
        "id": "fGWoqeb6xzXv",
        "colab": {
          "base_uri": "https://localhost:8080/"
        },
        "outputId": "f7744cd0-32c2-46f9-c58e-44012e48c2db"
      },
      "execution_count": null,
      "outputs": [
        {
          "output_type": "execute_result",
          "data": {
            "text/plain": [
              "100"
            ]
          },
          "metadata": {},
          "execution_count": 13
        }
      ]
    },
    {
      "cell_type": "code",
      "source": [
        "greenling_path = '/content/train/Greenling'\n",
        "greenling_list = os.listdir(greenling_path)\n",
        "greenling_list = [file for file in greenling_list if file.endswith('.png')]\n",
        "\n",
        "# validation으로 파일 분리(20%)\n",
        "# 20%의 이미지 파일을 선택합니다.\n",
        "selected_files = random.sample(data_greenling_list, 99)\n",
        "\n",
        "# 선택된 이미지 파일을 validation 폴더 하위의 conger 폴더로 보내기. \n",
        "vali_greenling_path = '/content/validation/Greenling'\n",
        "for file_name in selected_files:\n",
        "    src = os.path.join(greenling_path, file_name)\n",
        "    dst = os.path.join(vali_greenling_path, file_name)\n",
        "    try :\n",
        "      shutil.move(src, dst)\n",
        "    except :\n",
        "      continue\n",
        "\n",
        "# vali_greenling 옮긴 개수 확인\n",
        "vali_greenling_list = os.listdir(vali_greenling_path)\n",
        "vali_greenling_list = [file for file in vali_greenling_list if file.endswith('.png')]\n",
        "len(vali_greenling_list)"
      ],
      "metadata": {
        "id": "iqAsiG6Hx3wP",
        "colab": {
          "base_uri": "https://localhost:8080/"
        },
        "outputId": "0daaac57-ab6f-4599-f2df-cac8f29b1c0b"
      },
      "execution_count": null,
      "outputs": [
        {
          "output_type": "execute_result",
          "data": {
            "text/plain": [
              "100"
            ]
          },
          "metadata": {},
          "execution_count": 16
        }
      ]
    },
    {
      "cell_type": "code",
      "source": [
        "# data_greenling남은 개수 확인\n",
        "greenling_path = '/content/train/Greenling'\n",
        "data_greenling_list = os.listdir(greenling_path)\n",
        "data_greenling_list = [file for file in data_greenling_list if file.endswith('.png')]\n",
        "len(data_greenling_list)"
      ],
      "metadata": {
        "id": "16oB8QNnx9Jz",
        "colab": {
          "base_uri": "https://localhost:8080/"
        },
        "outputId": "6faaa5c6-2121-4559-f1b3-c1c7eb042edc"
      },
      "execution_count": null,
      "outputs": [
        {
          "output_type": "execute_result",
          "data": {
            "text/plain": [
              "250"
            ]
          },
          "metadata": {},
          "execution_count": 18
        }
      ]
    },
    {
      "cell_type": "markdown",
      "source": [
        "## 4. Gurnard"
      ],
      "metadata": {
        "id": "MN394609inOX"
      }
    },
    {
      "cell_type": "code",
      "source": [
        "# data_gurnard남은 개수 확인\n",
        "gurnard_path = '/content/train/Gurnard'\n",
        "data_gurnard_list = os.listdir(gurnard_path)\n",
        "data_gurnard_list = [file for file in data_gurnard_list if file.endswith('.jpg')]\n",
        "len(data_gurnard_list)"
      ],
      "metadata": {
        "colab": {
          "base_uri": "https://localhost:8080/"
        },
        "id": "xUkg0enaipAe",
        "outputId": "e9892d0c-f194-4e62-f19f-7fbae22b2e20"
      },
      "execution_count": null,
      "outputs": [
        {
          "output_type": "execute_result",
          "data": {
            "text/plain": [
              "1002"
            ]
          },
          "metadata": {},
          "execution_count": 19
        }
      ]
    },
    {
      "cell_type": "code",
      "source": [
        "gurnard_path = '/content/train/Gurnard'\n",
        "gurnard_list = os.listdir(gurnard_path)\n",
        "gurnard_list = [file for file in gurnard_list if file.endswith('.jpg')]\n",
        "\n",
        "#test 파일 분리(200개개)\n",
        "# 200개의 이미지 파일을 랜덤으로 선택합니다.\n",
        "selected_files = random.sample(gurnard_list, 100)\n",
        "\n",
        "# 선택된 이미지 파일을 test 폴더 하위의 greenling 폴더로 보내기. \n",
        "test_gurnard_path = '/content/test/Gurnard'\n",
        "for file_name in selected_files:\n",
        "    gurnard_src = os.path.join(gurnard_path, file_name)\n",
        "    gurnard_dst = os.path.join(test_gurnard_path, file_name)\n",
        "    try :\n",
        "      shutil.move(gurnard_src, gurnard_dst)\n",
        "    except :\n",
        "      print(f\"There's an error at {file_name}\")\n",
        "      continue\n",
        "\n",
        "# test_gurnard 옮긴 개수 확인\n",
        "test_gurnard_path = '/content/test/Gurnard'\n",
        "test_gurnard_list = os.listdir(test_gurnard_path)\n",
        "test_gurnard_list = [file for file in test_gurnard_list if file.endswith('.jpg')]\n",
        "print(len(test_gurnard_list))"
      ],
      "metadata": {
        "id": "5Mc1AdtCx_2X",
        "colab": {
          "base_uri": "https://localhost:8080/"
        },
        "outputId": "324436ac-8866-4485-c9b6-b988815c5c05"
      },
      "execution_count": null,
      "outputs": [
        {
          "output_type": "stream",
          "name": "stdout",
          "text": [
            "100\n"
          ]
        }
      ]
    },
    {
      "cell_type": "code",
      "source": [
        "gurnard_path = '/content/train/Gurnard'\n",
        "gurnard_list = os.listdir(gurnard_path)\n",
        "gurnard_list = [file for file in gurnard_list if file.endswith('.jpg')]\n",
        "\n",
        "# validation으로 파일 분리(20%)\n",
        "# 20%의 이미지 파일을 선택합니다.\n",
        "selected_files = random.sample(gurnard_list, 100)\n",
        "\n",
        "# 선택된 이미지 파일을 validation 폴더 하위의 conger 폴더로 보내기. \n",
        "vali_gurnard_path = '/content/validation/Gurnard'\n",
        "for file_name in selected_files:\n",
        "    src = os.path.join(gurnard_path, file_name)\n",
        "    dst = os.path.join(vali_gurnard_path, file_name)\n",
        "    try :\n",
        "      shutil.move(src, dst)\n",
        "    except :\n",
        "      print(f\"There's an error at {file_name}\")\n",
        "      continue\n",
        "\n",
        "# vali_gurnard 옮긴 개수 확인\n",
        "vali_gurnard_list = os.listdir(vali_gurnard_path)\n",
        "vali_gurnard_list = [file for file in vali_gurnard_list if file.endswith('.jpg')]\n",
        "print(len(vali_gurnard_list))"
      ],
      "metadata": {
        "id": "MQTQj1_OyQUH",
        "colab": {
          "base_uri": "https://localhost:8080/"
        },
        "outputId": "853bc556-3304-4112-d93a-feef80eb25ee"
      },
      "execution_count": null,
      "outputs": [
        {
          "output_type": "stream",
          "name": "stdout",
          "text": [
            "100\n"
          ]
        }
      ]
    },
    {
      "cell_type": "code",
      "source": [
        "# data_gurnard남은 개수 확인\n",
        "gurnard_path = '/content/train/Gurnard'\n",
        "data_gurnard_list = os.listdir(gurnard_path)\n",
        "data_gurnard_list = [file for file in data_gurnard_list if file.endswith('.jpg')]\n",
        "len(data_gurnard_list)"
      ],
      "metadata": {
        "id": "1l2tF9M8yQ2D",
        "colab": {
          "base_uri": "https://localhost:8080/"
        },
        "outputId": "4f1b260a-da9c-4c9b-d6de-487963d64dac"
      },
      "execution_count": null,
      "outputs": [
        {
          "output_type": "execute_result",
          "data": {
            "text/plain": [
              "802"
            ]
          },
          "metadata": {},
          "execution_count": 22
        }
      ]
    },
    {
      "cell_type": "markdown",
      "source": [
        "## 5. Mudskipper"
      ],
      "metadata": {
        "id": "viLK3RR5ipdB"
      }
    },
    {
      "cell_type": "code",
      "source": [
        "# data_mudskipper남은 개수 확인\n",
        "mudskipper_path = '/content/train/Mudskipper'\n",
        "data_mudskipper_list = os.listdir(mudskipper_path)\n",
        "data_mudskipper_list = [file for file in data_mudskipper_list if file.endswith('.jpg')]\n",
        "len(data_mudskipper_list)"
      ],
      "metadata": {
        "colab": {
          "base_uri": "https://localhost:8080/"
        },
        "id": "iAmvR1u4ir2v",
        "outputId": "5c9625ee-6e2f-4fb2-f433-4dd062c3cb6b"
      },
      "execution_count": null,
      "outputs": [
        {
          "output_type": "execute_result",
          "data": {
            "text/plain": [
              "804"
            ]
          },
          "metadata": {},
          "execution_count": 23
        }
      ]
    },
    {
      "cell_type": "code",
      "source": [
        "mudskipper_path = '/content/train/Mudskipper'\n",
        "mudskipper_list = os.listdir(mudskipper_path)\n",
        "mudskipper_list = [file for file in mudskipper_list if file.endswith('.jpg')]\n",
        "\n",
        "#test 파일 분리(200개개)\n",
        "# 200개의 이미지 파일을 랜덤으로 선택합니다.\n",
        "selected_files = random.sample(mudskipper_list, 100)\n",
        "\n",
        "# 선택된 이미지 파일을 test 폴더 하위의 greenling 폴더로 보내기. \n",
        "test_mudskipper_path = '/content/test/Mudskipper'\n",
        "for file_name in selected_files:\n",
        "    mudskipper_src = os.path.join(mudskipper_path, file_name)\n",
        "    mudskipper_dst = os.path.join(test_mudskipper_path, file_name)\n",
        "    try :\n",
        "      shutil.move(mudskipper_src, mudskipper_dst)\n",
        "    except :\n",
        "      print(f\"There's an error at {file_name}\")\n",
        "      continue\n",
        "\n",
        "# test_gurnard 옮긴 개수 확인\n",
        "test_mudskipper_path = '/content/test/Mudskipper'\n",
        "test_mudskipper_list = os.listdir(test_mudskipper_path)\n",
        "test_mudskipper_list = [file for file in test_mudskipper_list if file.endswith('.jpg')]\n",
        "print(len(test_mudskipper_list))"
      ],
      "metadata": {
        "id": "VYjpMb51yT4F",
        "colab": {
          "base_uri": "https://localhost:8080/"
        },
        "outputId": "acba0426-ce47-45e5-9ad5-9c6eac201982"
      },
      "execution_count": null,
      "outputs": [
        {
          "output_type": "stream",
          "name": "stdout",
          "text": [
            "100\n"
          ]
        }
      ]
    },
    {
      "cell_type": "code",
      "source": [
        "mudskipper_path = '/content/train/Mudskipper'\n",
        "mudskipper_list = os.listdir(mudskipper_path)\n",
        "mudskipper_list = [file for file in mudskipper_list if file.endswith('.jpg')]\n",
        "\n",
        "# validation으로 파일 분리(20%)\n",
        "# 20%의 이미지 파일을 선택합니다.\n",
        "selected_files = random.sample(mudskipper_list, 100)\n",
        "\n",
        "# 선택된 이미지 파일을 validation 폴더 하위의 mudskipper 폴더로 보내기. \n",
        "vali_mudskipper_path = '/content/validation/Mudskipper'\n",
        "for file_name in selected_files:\n",
        "    src = os.path.join(mudskipper_path, file_name)\n",
        "    dst = os.path.join(vali_mudskipper_path, file_name)\n",
        "    try :\n",
        "      shutil.move(src, dst)\n",
        "    except :\n",
        "      print(f\"There's an error at {file_name}\")\n",
        "      continue\n",
        "\n",
        "# vali_mudskipper 옮긴 개수 확인\n",
        "vali_mudskipper_list = os.listdir(vali_mudskipper_path)\n",
        "vali_mudskipper_list = [file for file in vali_mudskipper_list if file.endswith('.jpg')]\n",
        "print(len(vali_mudskipper_list))"
      ],
      "metadata": {
        "id": "dHHQ2OMFyWbz",
        "colab": {
          "base_uri": "https://localhost:8080/"
        },
        "outputId": "2e91af04-f927-45f3-d127-1a030f3b9898"
      },
      "execution_count": null,
      "outputs": [
        {
          "output_type": "stream",
          "name": "stdout",
          "text": [
            "100\n"
          ]
        }
      ]
    },
    {
      "cell_type": "code",
      "source": [
        "# data_mudskipper남은 개수 확인\n",
        "mudskipper_path = '/content/train/Mudskipper'\n",
        "data_mudskipper_list = os.listdir(mudskipper_path)\n",
        "data_mudskipper_list = [file for file in data_mudskipper_list if file.endswith('.jpg')]\n",
        "len(data_mudskipper_list)"
      ],
      "metadata": {
        "id": "Jz6OGpMvyajT",
        "colab": {
          "base_uri": "https://localhost:8080/"
        },
        "outputId": "6788ae3e-cca0-459d-9f42-1f505de859ec"
      },
      "execution_count": null,
      "outputs": [
        {
          "output_type": "execute_result",
          "data": {
            "text/plain": [
              "604"
            ]
          },
          "metadata": {},
          "execution_count": 26
        }
      ]
    },
    {
      "cell_type": "markdown",
      "source": [
        "## 6. Sillaginoid"
      ],
      "metadata": {
        "id": "iS5CDkPKisWT"
      }
    },
    {
      "cell_type": "code",
      "source": [
        "# data_sillaginoid남은 개수 확인\n",
        "sillaginoid_path = '/content/train/Sillaginoid'\n",
        "data_sillaginoid_list = os.listdir(sillaginoid_path)\n",
        "data_sillaginoid_list = [file for file in data_sillaginoid_list if file.endswith('.jpg')]\n",
        "len(data_sillaginoid_list)"
      ],
      "metadata": {
        "colab": {
          "base_uri": "https://localhost:8080/"
        },
        "id": "FrDDB_VZiuLJ",
        "outputId": "aad541fd-08cd-4195-de67-75e27c2a8e02"
      },
      "execution_count": null,
      "outputs": [
        {
          "output_type": "execute_result",
          "data": {
            "text/plain": [
              "435"
            ]
          },
          "metadata": {},
          "execution_count": 27
        }
      ]
    },
    {
      "cell_type": "code",
      "source": [
        "sillaginoid_path = '/content/train/Sillaginoid'\n",
        "sillaginoid_list = os.listdir(sillaginoid_path)\n",
        "sillaginoid_list = [file for file in sillaginoid_list if file.endswith('.jpg')]\n",
        "\n",
        "#test 파일 분리(200개개)\n",
        "# 200개의 이미지 파일을 랜덤으로 선택합니다.\n",
        "selected_files = random.sample(sillaginoid_list, 100)\n",
        "\n",
        "# 선택된 이미지 파일을 test 폴더 하위의 greenling 폴더로 보내기. \n",
        "test_sillaginoid_path = '/content/test/Sillaginoid'\n",
        "for file_name in selected_files:\n",
        "    sillaginoid_src = os.path.join(sillaginoid_path, file_name)\n",
        "    sillaginoid_dst = os.path.join(test_sillaginoid_path, file_name)\n",
        "    try :\n",
        "      shutil.move(sillaginoid_src, sillaginoid_dst)\n",
        "    except :\n",
        "      print(f\"There's an error at {file_name}\")\n",
        "      continue\n",
        "\n",
        "# test_sillaginoid 옮긴 개수 확인\n",
        "test_sillaginoid_path = '/content/test/Sillaginoid'\n",
        "test_sillaginoid_list = os.listdir(test_sillaginoid_path)\n",
        "test_sillaginoid_list = [file for file in test_sillaginoid_list if file.endswith('.jpg')]\n",
        "print(len(test_sillaginoid_list))"
      ],
      "metadata": {
        "id": "rtDf0kSqyhlN",
        "colab": {
          "base_uri": "https://localhost:8080/"
        },
        "outputId": "d4a9237c-6b16-4ec1-d059-ab9196041e8d"
      },
      "execution_count": null,
      "outputs": [
        {
          "output_type": "stream",
          "name": "stdout",
          "text": [
            "100\n"
          ]
        }
      ]
    },
    {
      "cell_type": "code",
      "source": [
        "sillaginoid_path = '/content/train/Sillaginoid'\n",
        "sillaginoid_list = os.listdir(sillaginoid_path)\n",
        "sillaginoid_list = [file for file in sillaginoid_list if file.endswith('.jpg')]\n",
        "\n",
        "# validation으로 파일 분리(20%)\n",
        "# 20%의 이미지 파일을 선택합니다.\n",
        "selected_files = random.sample(sillaginoid_list, 100)\n",
        "\n",
        "# 선택된 이미지 파일을 validation 폴더 하위의 sillaginoid 폴더로 보내기. \n",
        "vali_sillaginoid_path = '/content/validation/Sillaginoid'\n",
        "for file_name in selected_files:\n",
        "    src = os.path.join(sillaginoid_path, file_name)\n",
        "    dst = os.path.join(vali_sillaginoid_path, file_name)\n",
        "    try :\n",
        "      shutil.move(src, dst)\n",
        "    except :\n",
        "      print(f\"There's an error at {file_name}\")\n",
        "      continue\n",
        "\n",
        "# vali_sillaginoid 옮긴 개수 확인\n",
        "vali_sillaginoid_list = os.listdir(vali_sillaginoid_path)\n",
        "vali_sillaginoid_list = [file for file in vali_sillaginoid_list if file.endswith('.jpg')]\n",
        "print(len(vali_sillaginoid_list))"
      ],
      "metadata": {
        "id": "zslwufg9yiLX",
        "colab": {
          "base_uri": "https://localhost:8080/"
        },
        "outputId": "77f9e5e8-140a-4076-d210-59c64e1a7dcd"
      },
      "execution_count": null,
      "outputs": [
        {
          "output_type": "stream",
          "name": "stdout",
          "text": [
            "100\n"
          ]
        }
      ]
    },
    {
      "cell_type": "code",
      "source": [
        "# data_sillaginoid남은 개수 확인\n",
        "sillaginoid_path = '/content/train/Sillaginoid'\n",
        "data_sillaginoid_list = os.listdir(sillaginoid_path)\n",
        "data_sillaginoid_list = [file for file in data_sillaginoid_list if file.endswith('.jpg')]\n",
        "len(data_sillaginoid_list)"
      ],
      "metadata": {
        "id": "1fQxCn8ayknX",
        "colab": {
          "base_uri": "https://localhost:8080/"
        },
        "outputId": "af9f5789-2fb4-4783-e21a-5f06089e6697"
      },
      "execution_count": null,
      "outputs": [
        {
          "output_type": "execute_result",
          "data": {
            "text/plain": [
              "235"
            ]
          },
          "metadata": {},
          "execution_count": 30
        }
      ]
    },
    {
      "cell_type": "markdown",
      "source": [
        "## 7. Black Sea Bream"
      ],
      "metadata": {
        "id": "13_toXacz8Lh"
      }
    },
    {
      "cell_type": "code",
      "source": [
        "# data_Bream남은 개수 확인\n",
        "Bream_path = '/content/train/BlackBream'\n",
        "data_Bream_list = os.listdir(Bream_path)\n",
        "data_Bream_list = [file for file in data_Bream_list if file.endswith('.jpg')]\n",
        "len(data_Bream_list)"
      ],
      "metadata": {
        "colab": {
          "base_uri": "https://localhost:8080/"
        },
        "id": "W9QNTCI30LXV",
        "outputId": "c7b6c26f-d3a9-4d8f-b4dd-8e23bbd74e86"
      },
      "execution_count": null,
      "outputs": [
        {
          "output_type": "execute_result",
          "data": {
            "text/plain": [
              "1002"
            ]
          },
          "metadata": {},
          "execution_count": 31
        }
      ]
    },
    {
      "cell_type": "code",
      "source": [
        "Bream_path = '/content/train/BlackBream'\n",
        "Bream_list = os.listdir(Bream_path)\n",
        "Bream_list = [file for file in Bream_list if file.endswith('.jpg')]\n",
        "\n",
        "#test 파일 분리(200개개)\n",
        "# 200개의 이미지 파일을 랜덤으로 선택합니다.\n",
        "selected_files = random.sample(Bream_list, 100)\n",
        "\n",
        "# 선택된 이미지 파일을 test 폴더 하위의 greenling 폴더로 보내기. \n",
        "test_Bream_path = '/content/test/BlackBream'\n",
        "for file_name in selected_files:\n",
        "    Bream_src = os.path.join(Bream_path, file_name)\n",
        "    Bream_dst = os.path.join(test_Bream_path, file_name)\n",
        "    try :\n",
        "      shutil.move(Bream_src, Bream_dst)\n",
        "    except :\n",
        "      print(f\"There's an error at {file_name}\")\n",
        "      continue\n",
        "\n",
        "# test_Bream 옮긴 개수 확인\n",
        "test_Bream_path = '/content/test/BlackBream'\n",
        "test_Bream_list = os.listdir(test_Bream_path)\n",
        "test_Bream_list = [file for file in test_Bream_list if file.endswith('.jpg')]\n",
        "print(len(test_Bream_list))"
      ],
      "metadata": {
        "colab": {
          "base_uri": "https://localhost:8080/"
        },
        "id": "wcyMJ7sX0ZdC",
        "outputId": "48e04a54-741f-4246-e3d1-fdab4fccac53"
      },
      "execution_count": null,
      "outputs": [
        {
          "output_type": "stream",
          "name": "stdout",
          "text": [
            "100\n"
          ]
        }
      ]
    },
    {
      "cell_type": "code",
      "source": [
        "Bream_path = '/content/train/BlackBream'\n",
        "Bream_list = os.listdir(Bream_path)\n",
        "Bream_list = [file for file in Bream_list if file.endswith('.jpg')]\n",
        "\n",
        "# validation으로 파일 분리(20%)\n",
        "# 20%의 이미지 파일을 선택합니다.\n",
        "selected_files = random.sample(Bream_list, 100)\n",
        "\n",
        "# 선택된 이미지 파일을 validation 폴더 하위의 Bream 폴더로 보내기. \n",
        "vali_Bream_path = '/content/validation/BlackBream'\n",
        "for file_name in selected_files:\n",
        "    src = os.path.join(Bream_path, file_name)\n",
        "    dst = os.path.join(vali_Bream_path, file_name)\n",
        "    try :\n",
        "      shutil.move(src, dst)\n",
        "    except :\n",
        "      print(f\"There's an error at {file_name}\")\n",
        "      continue\n",
        "\n",
        "# vali_Bream 옮긴 개수 확인\n",
        "vali_Bream_list = os.listdir(vali_Bream_path)\n",
        "vali_Bream_list = [file for file in vali_Bream_list if file.endswith('.jpg')]\n",
        "print(len(vali_Bream_list))"
      ],
      "metadata": {
        "colab": {
          "base_uri": "https://localhost:8080/"
        },
        "id": "gVHrgpY90NS3",
        "outputId": "a2836b29-c561-4d68-ddf0-eba5515a9999"
      },
      "execution_count": null,
      "outputs": [
        {
          "output_type": "stream",
          "name": "stdout",
          "text": [
            "100\n"
          ]
        }
      ]
    },
    {
      "cell_type": "code",
      "source": [
        "# data_Bream남은 개수 확인\n",
        "Bream_path = '/content/train/BlackBream'\n",
        "data_Bream_list = os.listdir(Bream_path)\n",
        "data_Bream_list = [file for file in data_Bream_list if file.endswith('.jpg')]\n",
        "len(data_Bream_list)"
      ],
      "metadata": {
        "colab": {
          "base_uri": "https://localhost:8080/"
        },
        "id": "NRGeghRX0uIr",
        "outputId": "3a10b3d3-cd31-4d86-a2ca-272dfa8c47cb"
      },
      "execution_count": null,
      "outputs": [
        {
          "output_type": "execute_result",
          "data": {
            "text/plain": [
              "802"
            ]
          },
          "metadata": {},
          "execution_count": 34
        }
      ]
    },
    {
      "cell_type": "markdown",
      "source": [
        "## 8. Halibut"
      ],
      "metadata": {
        "id": "TGV31kti0uw-"
      }
    },
    {
      "cell_type": "code",
      "source": [
        "# data_Halibut남은 개수 확인\n",
        "Halibut_path = '/content/train/Halibut'\n",
        "data_Halibut_list = os.listdir(Halibut_path)\n",
        "data_Halibut_list = [file for file in data_Halibut_list if file.endswith('.jpg')]\n",
        "len(data_Halibut_list)"
      ],
      "metadata": {
        "colab": {
          "base_uri": "https://localhost:8080/"
        },
        "id": "_X0wSKs100Jp",
        "outputId": "1d4a2988-357a-44e9-ff87-9375d57cfcd7"
      },
      "execution_count": null,
      "outputs": [
        {
          "output_type": "execute_result",
          "data": {
            "text/plain": [
              "974"
            ]
          },
          "metadata": {},
          "execution_count": 35
        }
      ]
    },
    {
      "cell_type": "code",
      "source": [
        "Halibut_path = '/content/train/Halibut'\n",
        "Halibut_list = os.listdir(Halibut_path)\n",
        "Halibut_list = [file for file in Halibut_list if file.endswith('.jpg')]\n",
        "\n",
        "#test 파일 분리(200개개)\n",
        "# 200개의 이미지 파일을 랜덤으로 선택합니다.\n",
        "selected_files = random.sample(Halibut_list, 100)\n",
        "\n",
        "# 선택된 이미지 파일을 test 폴더 하위의 greenling 폴더로 보내기. \n",
        "test_Halibut_path = '/content/test/Halibut'\n",
        "for file_name in selected_files:\n",
        "    Halibut_src = os.path.join(Halibut_path, file_name)\n",
        "    Halibut_dst = os.path.join(test_Halibut_path, file_name)\n",
        "    try :\n",
        "      shutil.move(Halibut_src, Halibut_dst)\n",
        "    except :\n",
        "      print(f\"There's an error at {file_name}\")\n",
        "      continue\n",
        "\n",
        "# test_Halibut 옮긴 개수 확인\n",
        "test_Halibut_path = '/content/test/Halibut'\n",
        "test_Halibut_list = os.listdir(test_Halibut_path)\n",
        "test_Halibut_list = [file for file in test_Halibut_list if file.endswith('.jpg')]\n",
        "print(len(test_Halibut_list))"
      ],
      "metadata": {
        "colab": {
          "base_uri": "https://localhost:8080/"
        },
        "id": "9-uN8xqY0926",
        "outputId": "9927782e-96fa-4975-af43-eb1466bc04f3"
      },
      "execution_count": null,
      "outputs": [
        {
          "output_type": "stream",
          "name": "stdout",
          "text": [
            "100\n"
          ]
        }
      ]
    },
    {
      "cell_type": "code",
      "source": [
        "Halibut_path = '/content/train/Halibut'\n",
        "Halibut_list = os.listdir(Halibut_path)\n",
        "Halibut_list = [file for file in Halibut_list if file.endswith('.jpg')]\n",
        "\n",
        "# validation으로 파일 분리(20%)\n",
        "# 20%의 이미지 파일을 선택합니다.\n",
        "selected_files = random.sample(Halibut_list, 100)\n",
        "\n",
        "# 선택된 이미지 파일을 validation 폴더 하위의 Halibut 폴더로 보내기. \n",
        "vali_Halibut_path = '/content/validation/Halibut'\n",
        "for file_name in selected_files:\n",
        "    src = os.path.join(Halibut_path, file_name)\n",
        "    dst = os.path.join(vali_Halibut_path, file_name)\n",
        "    try :\n",
        "      shutil.move(src, dst)\n",
        "    except :\n",
        "      print(f\"There's an error at {file_name}\")\n",
        "      continue\n",
        "\n",
        "# vali_Halibut 옮긴 개수 확인\n",
        "vali_Halibut_list = os.listdir(vali_Halibut_path)\n",
        "vali_Halibut_list = [file for file in vali_Halibut_list if file.endswith('.jpg')]\n",
        "print(len(vali_Halibut_list))"
      ],
      "metadata": {
        "colab": {
          "base_uri": "https://localhost:8080/"
        },
        "id": "KCeLQNOT2BAP",
        "outputId": "2ab7179e-c3e3-44eb-8459-b26034461a85"
      },
      "execution_count": null,
      "outputs": [
        {
          "output_type": "stream",
          "name": "stdout",
          "text": [
            "100\n"
          ]
        }
      ]
    },
    {
      "cell_type": "code",
      "source": [
        "# data_Halibut남은 개수 확인\n",
        "Halibut_path = '/content/train/Halibut'\n",
        "data_Halibut_list = os.listdir(Halibut_path)\n",
        "data_Halibut_list = [file for file in data_Halibut_list if file.endswith('.jpg')]\n",
        "len(data_Halibut_list)"
      ],
      "metadata": {
        "colab": {
          "base_uri": "https://localhost:8080/"
        },
        "id": "_rDfpyHm1nxe",
        "outputId": "bc23eee8-8213-41d5-9a22-aba5522ee445"
      },
      "execution_count": null,
      "outputs": [
        {
          "output_type": "execute_result",
          "data": {
            "text/plain": [
              "774"
            ]
          },
          "metadata": {},
          "execution_count": 38
        }
      ]
    },
    {
      "cell_type": "markdown",
      "source": [
        "## 9. Red_sea_bream"
      ],
      "metadata": {
        "id": "-78APPca1s7X"
      }
    },
    {
      "cell_type": "code",
      "source": [
        "# data_RedBream남은 개수 확인\n",
        "RedBream_path = '/content/train/RedBream'\n",
        "data_RedBream_list = os.listdir(RedBream_path)\n",
        "data_RedBream_list = [file for file in data_RedBream_list if file.endswith('.jpg')]\n",
        "len(data_RedBream_list)"
      ],
      "metadata": {
        "colab": {
          "base_uri": "https://localhost:8080/"
        },
        "id": "J5bC9mRU1zTR",
        "outputId": "2c61098a-055a-40e7-fc8b-3771a2a978e8"
      },
      "execution_count": null,
      "outputs": [
        {
          "output_type": "execute_result",
          "data": {
            "text/plain": [
              "1002"
            ]
          },
          "metadata": {},
          "execution_count": 39
        }
      ]
    },
    {
      "cell_type": "code",
      "source": [
        "RedBream_path = '/content/train/RedBream'\n",
        "RedBream_list = os.listdir(RedBream_path)\n",
        "RedBream_list = [file for file in RedBream_list if file.endswith('.jpg')]\n",
        "\n",
        "#test 파일 분리(200개개)\n",
        "# 200개의 이미지 파일을 랜덤으로 선택합니다.\n",
        "selected_files = random.sample(RedBream_list, 100)\n",
        "\n",
        "# 선택된 이미지 파일을 test 폴더 하위의 greenling 폴더로 보내기. \n",
        "test_RedBream_path = '/content/test/RedBream'\n",
        "for file_name in selected_files:\n",
        "    RedBream_src = os.path.join(RedBream_path, file_name)\n",
        "    RedBream_dst = os.path.join(test_RedBream_path, file_name)\n",
        "    try :\n",
        "      shutil.move(RedBream_src, RedBream_dst)\n",
        "    except :\n",
        "      print(f\"There's an error at {file_name}\")\n",
        "      continue\n",
        "\n",
        "# test_RedBream 옮긴 개수 확인\n",
        "test_RedBream_path = '/content/test/RedBream'\n",
        "test_RedBream_list = os.listdir(test_RedBream_path)\n",
        "test_RedBream_list = [file for file in test_RedBream_list if file.endswith('.jpg')]\n",
        "print(len(test_RedBream_list))"
      ],
      "metadata": {
        "colab": {
          "base_uri": "https://localhost:8080/"
        },
        "id": "MFjJZAu515gg",
        "outputId": "de0ae1af-3a58-4fbe-d302-ef17c75715a7"
      },
      "execution_count": null,
      "outputs": [
        {
          "output_type": "stream",
          "name": "stdout",
          "text": [
            "100\n"
          ]
        }
      ]
    },
    {
      "cell_type": "code",
      "source": [
        "RedBream_path = '/content/train/RedBream'\n",
        "RedBream_list = os.listdir(RedBream_path)\n",
        "RedBream_list = [file for file in RedBream_list if file.endswith('.jpg')]\n",
        "\n",
        "# validation으로 파일 분리(20%)\n",
        "# 20%의 이미지 파일을 선택합니다.\n",
        "selected_files = random.sample(RedBream_list, 100)\n",
        "\n",
        "# 선택된 이미지 파일을 validation 폴더 하위의 RedBream 폴더로 보내기. \n",
        "vali_RedBream_path = '/content/validation/RedBream'\n",
        "for file_name in selected_files:\n",
        "    src = os.path.join(RedBream_path, file_name)\n",
        "    dst = os.path.join(vali_RedBream_path, file_name)\n",
        "    try :\n",
        "      shutil.move(src, dst)\n",
        "    except :\n",
        "      print(f\"There's an error at {file_name}\")\n",
        "      continue\n",
        "\n",
        "# vali_RedBream 옮긴 개수 확인\n",
        "vali_RedBream_list = os.listdir(vali_RedBream_path)\n",
        "vali_RedBream_list = [file for file in vali_RedBream_list if file.endswith('.jpg')]\n",
        "print(len(vali_RedBream_list))"
      ],
      "metadata": {
        "colab": {
          "base_uri": "https://localhost:8080/"
        },
        "id": "eF9a6_NP2NsF",
        "outputId": "6799fa91-e2c5-42f8-df4b-ad88a2b41044"
      },
      "execution_count": null,
      "outputs": [
        {
          "output_type": "stream",
          "name": "stdout",
          "text": [
            "100\n"
          ]
        }
      ]
    },
    {
      "cell_type": "code",
      "source": [
        "# data_RedBream남은 개수 확인\n",
        "RedBream_path = '/content/train/RedBream'\n",
        "data_RedBream_list = os.listdir(RedBream_path)\n",
        "data_RedBream_list = [file for file in data_RedBream_list if file.endswith('.jpg')]\n",
        "len(data_RedBream_list)"
      ],
      "metadata": {
        "colab": {
          "base_uri": "https://localhost:8080/"
        },
        "id": "ZKIldl-q2WZl",
        "outputId": "9ade8ee5-9bfa-4300-ccd8-45de392a16dc"
      },
      "execution_count": null,
      "outputs": [
        {
          "output_type": "execute_result",
          "data": {
            "text/plain": [
              "802"
            ]
          },
          "metadata": {},
          "execution_count": 42
        }
      ]
    },
    {
      "cell_type": "markdown",
      "source": [
        "## 10. Rock Bream"
      ],
      "metadata": {
        "id": "HteEkQ1b2ZVd"
      }
    },
    {
      "cell_type": "code",
      "source": [
        "# data_RcokBream남은 개수 확인\n",
        "RcokBream_path = '/content/train/RockBream'\n",
        "data_RcokBream_list = os.listdir(RcokBream_path)\n",
        "data_RcokBream_list = [file for file in data_RcokBream_list if file.endswith('.jpg')]\n",
        "len(data_RcokBream_list)"
      ],
      "metadata": {
        "colab": {
          "base_uri": "https://localhost:8080/"
        },
        "id": "VCq2TEud2ebS",
        "outputId": "2329bd7b-b49c-4a7a-ca0d-a1a561cdd049"
      },
      "execution_count": null,
      "outputs": [
        {
          "output_type": "execute_result",
          "data": {
            "text/plain": [
              "879"
            ]
          },
          "metadata": {},
          "execution_count": 43
        }
      ]
    },
    {
      "cell_type": "code",
      "source": [
        "RockBream_path = '/content/train/RockBream'\n",
        "RockBream_list = os.listdir(RockBream_path)\n",
        "RockBream_list = [file for file in RockBream_list if file.endswith('.jpg')]\n",
        "\n",
        "#test 파일 분리(200개개)\n",
        "# 200개의 이미지 파일을 랜덤으로 선택합니다.\n",
        "selected_files = random.sample(RockBream_list, 100)\n",
        "\n",
        "# 선택된 이미지 파일을 test 폴더 하위의 greenling 폴더로 보내기. \n",
        "test_RockBream_path = '/content/test/RockBream'\n",
        "for file_name in selected_files:\n",
        "    RockBream_src = os.path.join(RockBream_path, file_name)\n",
        "    RockBream_dst = os.path.join(test_RockBream_path, file_name)\n",
        "    try :\n",
        "      shutil.move(RockBream_src, RockBream_dst)\n",
        "    except :\n",
        "      print(f\"There's an error at {file_name}\")\n",
        "      continue\n",
        "\n",
        "# test_RockBream 옮긴 개수 확인\n",
        "test_RockBream_path = '/content/test/RockBream'\n",
        "test_RockBream_list = os.listdir(test_RockBream_path)\n",
        "test_RockBream_list = [file for file in test_RockBream_list if file.endswith('.jpg')]\n",
        "print(len(test_RockBream_list))"
      ],
      "metadata": {
        "colab": {
          "base_uri": "https://localhost:8080/"
        },
        "id": "lgv3oe6O2iiR",
        "outputId": "4270dc15-b455-4c41-b9d5-7ec2f9f634e7"
      },
      "execution_count": null,
      "outputs": [
        {
          "output_type": "stream",
          "name": "stdout",
          "text": [
            "100\n"
          ]
        }
      ]
    },
    {
      "cell_type": "code",
      "source": [
        "RockBream_path = '/content/train/RockBream'\n",
        "RockBream_list = os.listdir(RockBream_path)\n",
        "RockBream_list = [file for file in RockBream_list if file.endswith('.jpg')]\n",
        "\n",
        "# validation으로 파일 분리(20%)\n",
        "# 20%의 이미지 파일을 선택합니다.\n",
        "selected_files = random.sample(RockBream_list, 100)\n",
        "\n",
        "# 선택된 이미지 파일을 validation 폴더 하위의 RockBream 폴더로 보내기. \n",
        "vali_RockBream_path = '/content/validation/RockBream'\n",
        "for file_name in selected_files:\n",
        "    src = os.path.join(RockBream_path, file_name)\n",
        "    dst = os.path.join(vali_RockBream_path, file_name)\n",
        "    try :\n",
        "      shutil.move(src, dst)\n",
        "    except :\n",
        "      print(f\"There's an error at {file_name}\")\n",
        "      continue\n",
        "\n",
        "# vali_RockBream 옮긴 개수 확인\n",
        "vali_RockBream_list = os.listdir(vali_RockBream_path)\n",
        "vali_RockBream_list = [file for file in vali_RockBream_list if file.endswith('.jpg')]\n",
        "print(len(vali_RockBream_list))"
      ],
      "metadata": {
        "colab": {
          "base_uri": "https://localhost:8080/"
        },
        "id": "C5CBcWil215x",
        "outputId": "de720993-de2e-4539-f4c9-418b326b70db"
      },
      "execution_count": null,
      "outputs": [
        {
          "output_type": "stream",
          "name": "stdout",
          "text": [
            "100\n"
          ]
        }
      ]
    },
    {
      "cell_type": "code",
      "source": [
        "# data_RockBream남은 개수 확인\n",
        "RockBream_path = '/content/train/RockBream'\n",
        "data_RockBream_list = os.listdir(RockBream_path)\n",
        "data_RockBream_list = [file for file in data_RockBream_list if file.endswith('.jpg')]\n",
        "len(data_RockBream_list)"
      ],
      "metadata": {
        "colab": {
          "base_uri": "https://localhost:8080/"
        },
        "id": "bi9ruQAG29wY",
        "outputId": "d81047ee-cf08-4315-df3a-eea3e866ac0d"
      },
      "execution_count": null,
      "outputs": [
        {
          "output_type": "execute_result",
          "data": {
            "text/plain": [
              "679"
            ]
          },
          "metadata": {},
          "execution_count": 46
        }
      ]
    },
    {
      "cell_type": "markdown",
      "source": [
        "## 11. RockFish"
      ],
      "metadata": {
        "id": "XvjjKZwP3AV9"
      }
    },
    {
      "cell_type": "code",
      "source": [
        "# data_RockFish남은 개수 확인\n",
        "RockFish_path = '/content/train/RockFish'\n",
        "data_RockFish_list = os.listdir(RockFish_path)\n",
        "data_RockFish_list = [file for file in data_RockFish_list if file.endswith('.jpg')]\n",
        "len(data_RockFish_list)"
      ],
      "metadata": {
        "colab": {
          "base_uri": "https://localhost:8080/"
        },
        "id": "bFdhMJGE3Dtr",
        "outputId": "544a976f-dbfd-4b29-b84f-cf8bf151d73c"
      },
      "execution_count": null,
      "outputs": [
        {
          "output_type": "execute_result",
          "data": {
            "text/plain": [
              "1002"
            ]
          },
          "metadata": {},
          "execution_count": 47
        }
      ]
    },
    {
      "cell_type": "code",
      "source": [
        "RockFish_path = '/content/train/RockFish'\n",
        "RockFish_list = os.listdir(RockFish_path)\n",
        "RockFish_list = [file for file in RockFish_list if file.endswith('.jpg')]\n",
        "\n",
        "#test 파일 분리(200개개)\n",
        "# 200개의 이미지 파일을 랜덤으로 선택합니다.\n",
        "selected_files = random.sample(RockFish_list, 100)\n",
        "\n",
        "# 선택된 이미지 파일을 test 폴더 하위의 greenling 폴더로 보내기. \n",
        "test_RockFish_path = '/content/test/RockFish'\n",
        "for file_name in selected_files:\n",
        "    RockFish_src = os.path.join(RockFish_path, file_name)\n",
        "    RockFish_dst = os.path.join(test_RockFish_path, file_name)\n",
        "    try :\n",
        "      shutil.move(RockFish_src, RockFish_dst)\n",
        "    except :\n",
        "      print(f\"There's an error at {file_name}\")\n",
        "      continue\n",
        "\n",
        "# test_RockFish 옮긴 개수 확인\n",
        "test_RockFish_path = '/content/test/RockFish'\n",
        "test_RockFish_list = os.listdir(test_RockFish_path)\n",
        "test_RockFish_list = [file for file in test_RockFish_list if file.endswith('.jpg')]\n",
        "print(len(test_RockFish_list))"
      ],
      "metadata": {
        "colab": {
          "base_uri": "https://localhost:8080/"
        },
        "id": "N-L4ERFt3IPe",
        "outputId": "b562813a-5449-4a93-943d-9e607c5379bf"
      },
      "execution_count": null,
      "outputs": [
        {
          "output_type": "stream",
          "name": "stdout",
          "text": [
            "100\n"
          ]
        }
      ]
    },
    {
      "cell_type": "code",
      "source": [
        "RockFish_path = '/content/train/RockFish'\n",
        "RockFish_list = os.listdir(RockFish_path)\n",
        "RockFish_list = [file for file in RockFish_list if file.endswith('.jpg')]\n",
        "\n",
        "# validation으로 파일 분리(20%)\n",
        "# 20%의 이미지 파일을 선택합니다.\n",
        "selected_files = random.sample(RockFish_list, 100)\n",
        "\n",
        "# 선택된 이미지 파일을 validation 폴더 하위의 RockFish 폴더로 보내기. \n",
        "vali_RockFish_path = '/content/validation/RockFish'\n",
        "for file_name in selected_files:\n",
        "    src = os.path.join(RockFish_path, file_name)\n",
        "    dst = os.path.join(vali_RockFish_path, file_name)\n",
        "    try :\n",
        "      shutil.move(src, dst)\n",
        "    except :\n",
        "      print(f\"There's an error at {file_name}\")\n",
        "      continue\n",
        "\n",
        "# vali_RockFish 옮긴 개수 확인\n",
        "vali_RockFish_list = os.listdir(vali_RockFish_path)\n",
        "vali_RockFish_list = [file for file in vali_RockFish_list if file.endswith('.jpg')]\n",
        "print(len(vali_RockFish_list))"
      ],
      "metadata": {
        "colab": {
          "base_uri": "https://localhost:8080/"
        },
        "id": "OC66RHXl3O2_",
        "outputId": "5e66b798-7614-494b-e824-708afd1cf08b"
      },
      "execution_count": null,
      "outputs": [
        {
          "output_type": "stream",
          "name": "stdout",
          "text": [
            "100\n"
          ]
        }
      ]
    },
    {
      "cell_type": "code",
      "source": [
        "# data_RockFish남은 개수 확인\n",
        "RockFish_path = '/content/train/RockFish'\n",
        "data_RockFish_list = os.listdir(RockFish_path)\n",
        "data_RockFish_list = [file for file in data_RockFish_list if file.endswith('.jpg')]\n",
        "len(data_RockFish_list)"
      ],
      "metadata": {
        "colab": {
          "base_uri": "https://localhost:8080/"
        },
        "id": "98eJ3mN73U0a",
        "outputId": "dd08b9d3-7d8b-4994-9865-0048e4c2dc03"
      },
      "execution_count": null,
      "outputs": [
        {
          "output_type": "execute_result",
          "data": {
            "text/plain": [
              "802"
            ]
          },
          "metadata": {},
          "execution_count": 50
        }
      ]
    },
    {
      "cell_type": "markdown",
      "source": [
        "# 학습"
      ],
      "metadata": {
        "id": "d43qGSYmki93"
      }
    },
    {
      "cell_type": "markdown",
      "source": [
        "## 1. Comv2D\n",
        "- 데이터  - 6마리 (증강완료 데이터)\n",
        "- 8 : 1 : 1 비율\n",
        "- batch_size=20\n",
        "- steps_per_epoch=100\n",
        "- epochs=20\n",
        "- validation_steps=50"
      ],
      "metadata": {
        "id": "xMPjLWQZMwFy"
      }
    },
    {
      "cell_type": "code",
      "source": [
        "from tensorflow.keras.applications.vgg16 import VGG16\n",
        "from tensorflow.keras.layers import Dense, Flatten\n",
        "from tensorflow.keras.models import Model\n",
        "from tensorflow.keras.optimizers import Adam\n",
        "from tensorflow.keras.preprocessing.image import ImageDataGenerator\n",
        "import math\n",
        "import glob\n",
        "import cv2\n",
        "import numpy as np\n",
        "import tensorflow as tf"
      ],
      "metadata": {
        "id": "TmlUUpEo_RnP"
      },
      "execution_count": null,
      "outputs": []
    },
    {
      "cell_type": "code",
      "source": [
        "\n",
        "\n",
        "# train, validation, test 폴더 경로 설정\n",
        "train_dir = '/content/train'\n",
        "validation_dir = '/content/validation'\n",
        "test_dir = '/content/test'\n",
        "\n",
        "# 데이터셋 불러오기\n",
        "train_datagen = ImageDataGenerator(rescale=1./255)\n",
        "validation_datagen = ImageDataGenerator(rescale=1./255)\n",
        "test_datagen = ImageDataGenerator(rescale=1./255)\n",
        "\n",
        "train_generator = train_datagen.flow_from_directory(train_dir, target_size=(224, 224), batch_size=20, class_mode='categorical')\n",
        "validation_generator = validation_datagen.flow_from_directory(validation_dir, target_size=(224, 224), batch_size=20, class_mode='categorical')\n",
        "test_generator = test_datagen.flow_from_directory(test_dir, target_size=(224, 224), batch_size=20, class_mode='categorical')\n",
        "\n",
        "\n",
        "\n",
        "model = tf.keras.models.Sequential([\n",
        "  tf.keras.layers.Conv2D(32, (3,3), activation='relu', input_shape=(224, 224, 3)),\n",
        "  tf.keras.layers.MaxPooling2D(2,2),\n",
        "  tf.keras.layers.Conv2D(64, (3,3), activation='relu'),\n",
        "  tf.keras.layers.MaxPooling2D(2,2),\n",
        "  tf.keras.layers.Conv2D(128, (3,3), activation='relu'),\n",
        "  tf.keras.layers.MaxPooling2D(2,2),\n",
        "  tf.keras.layers.Conv2D(128, (3,3), activation='relu'),\n",
        "  tf.keras.layers.MaxPooling2D(2,2),\n",
        "  tf.keras.layers.Flatten(),\n",
        "  tf.keras.layers.Dense(512, activation='relu'),\n",
        "  tf.keras.layers.Dense(6, activation='sigmoid')\n",
        "])\n",
        "\n",
        "\n",
        "# 모델 컴파일: 모델을 컴파일하여 학습 과정에서 사용될 손실 함수, 최적화 알고리즘, 평가 지표 등을 지정합니다.\n",
        "model.compile(loss='categorical_crossentropy',\n",
        "              optimizer='adam',\n",
        "              metrics=['accuracy'])\n",
        "\n",
        "\n",
        "# 모델 학습: 생성된 모델을 학습시킵니다.\n",
        "history = model.fit(train_generator,\n",
        "                    steps_per_epoch=100,\n",
        "                    epochs=20,\n",
        "                    validation_data=validation_generator,\n",
        "                    validation_steps=50,\n",
        "                    verbose=2)"
      ],
      "metadata": {
        "colab": {
          "base_uri": "https://localhost:8080/"
        },
        "id": "nh6R8N_akkT5",
        "outputId": "05bd284b-0008-4c61-9fd3-31251cdeed9e"
      },
      "execution_count": null,
      "outputs": [
        {
          "output_type": "stream",
          "name": "stdout",
          "text": [
            "Found 4799 images belonging to 6 classes.\n",
            "Found 600 images belonging to 6 classes.\n",
            "Found 600 images belonging to 6 classes.\n",
            "Epoch 1/20\n"
          ]
        },
        {
          "output_type": "stream",
          "name": "stderr",
          "text": [
            "WARNING:tensorflow:Your input ran out of data; interrupting training. Make sure that your dataset or generator can generate at least `steps_per_epoch * epochs` batches (in this case, 50 batches). You may need to use the repeat() function when building your dataset.\n"
          ]
        },
        {
          "output_type": "stream",
          "name": "stdout",
          "text": [
            "100/100 - 347s - loss: 1.7329 - accuracy: 0.2456 - val_loss: 1.6382 - val_accuracy: 0.3117 - 347s/epoch - 3s/step\n",
            "Epoch 2/20\n",
            "100/100 - 302s - loss: 1.5262 - accuracy: 0.3645 - 302s/epoch - 3s/step\n",
            "Epoch 3/20\n",
            "100/100 - 292s - loss: 1.4525 - accuracy: 0.4202 - 292s/epoch - 3s/step\n",
            "Epoch 4/20\n",
            "100/100 - 300s - loss: 1.3500 - accuracy: 0.4660 - 300s/epoch - 3s/step\n",
            "Epoch 5/20\n",
            "100/100 - 296s - loss: 1.2756 - accuracy: 0.5110 - 296s/epoch - 3s/step\n",
            "Epoch 6/20\n",
            "100/100 - 292s - loss: 1.1753 - accuracy: 0.5613 - 292s/epoch - 3s/step\n",
            "Epoch 7/20\n",
            "100/100 - 294s - loss: 1.0759 - accuracy: 0.6008 - 294s/epoch - 3s/step\n",
            "Epoch 8/20\n",
            "100/100 - 293s - loss: 0.9300 - accuracy: 0.6613 - 293s/epoch - 3s/step\n",
            "Epoch 9/20\n",
            "100/100 - 294s - loss: 0.8398 - accuracy: 0.6905 - 294s/epoch - 3s/step\n",
            "Epoch 10/20\n",
            "100/100 - 293s - loss: 0.7221 - accuracy: 0.7479 - 293s/epoch - 3s/step\n",
            "Epoch 11/20\n",
            "100/100 - 293s - loss: 0.5771 - accuracy: 0.7895 - 293s/epoch - 3s/step\n",
            "Epoch 12/20\n",
            "100/100 - 288s - loss: 0.4731 - accuracy: 0.8305 - 288s/epoch - 3s/step\n",
            "Epoch 13/20\n",
            "100/100 - 290s - loss: 0.4346 - accuracy: 0.8515 - 290s/epoch - 3s/step\n",
            "Epoch 14/20\n",
            "100/100 - 292s - loss: 0.3627 - accuracy: 0.8739 - 292s/epoch - 3s/step\n",
            "Epoch 15/20\n",
            "100/100 - 292s - loss: 0.3075 - accuracy: 0.8990 - 292s/epoch - 3s/step\n",
            "Epoch 16/20\n",
            "100/100 - 309s - loss: 0.2174 - accuracy: 0.9280 - 309s/epoch - 3s/step\n",
            "Epoch 17/20\n",
            "100/100 - 295s - loss: 0.2011 - accuracy: 0.9405 - 295s/epoch - 3s/step\n",
            "Epoch 18/20\n",
            "100/100 - 292s - loss: 0.1802 - accuracy: 0.9425 - 292s/epoch - 3s/step\n",
            "Epoch 19/20\n",
            "100/100 - 291s - loss: 0.1378 - accuracy: 0.9600 - 291s/epoch - 3s/step\n",
            "Epoch 20/20\n",
            "100/100 - 293s - loss: 0.1297 - accuracy: 0.9575 - 293s/epoch - 3s/step\n"
          ]
        }
      ]
    },
    {
      "cell_type": "code",
      "source": [
        "test_loss, test_acc = model.evaluate(test_generator, verbose=2)"
      ],
      "metadata": {
        "colab": {
          "base_uri": "https://localhost:8080/"
        },
        "id": "qcZmWqBB6e-_",
        "outputId": "51061540-92a0-40f3-a5d8-5b0855feedba"
      },
      "execution_count": null,
      "outputs": [
        {
          "output_type": "stream",
          "name": "stdout",
          "text": [
            "30/30 - 31s - loss: 3.0512 - accuracy: 0.5650 - 31s/epoch - 1s/step\n"
          ]
        }
      ]
    },
    {
      "cell_type": "code",
      "source": [
        "from sklearn.metrics import classification_report\n",
        "\n",
        "# 테스트 데이터 예측\n",
        "y_pred = model.predict(test_generator)\n",
        "y_pred = np.argmax(y_pred, axis=1)\n",
        "\n",
        "# 클래스별 분류 보고서 출력\n",
        "print(classification_report(test_generator.classes, y_pred, target_names=test_generator.class_indices.keys()))"
      ],
      "metadata": {
        "colab": {
          "base_uri": "https://localhost:8080/"
        },
        "id": "bboS-xu1SdH8",
        "outputId": "e3c06611-66fa-4e8e-c5a7-858a31275200"
      },
      "execution_count": null,
      "outputs": [
        {
          "output_type": "stream",
          "name": "stdout",
          "text": [
            "30/30 [==============================] - 34s 1s/step\n",
            "              precision    recall  f1-score   support\n",
            "\n",
            "Browncroaker       0.14      0.11      0.12       100\n",
            "      Conger       0.12      0.05      0.07       100\n",
            "   Greenling       0.22      0.19      0.21       100\n",
            "     Gurnard       0.14      0.17      0.15       100\n",
            "  Mudskipper       0.23      0.28      0.25       100\n",
            " Sillaginoid       0.16      0.25      0.20       100\n",
            "\n",
            "    accuracy                           0.17       600\n",
            "   macro avg       0.17      0.18      0.17       600\n",
            "weighted avg       0.17      0.17      0.17       600\n",
            "\n"
          ]
        }
      ]
    },
    {
      "cell_type": "markdown",
      "source": [
        "## 2. Comv2D\n",
        "- 데이터  - 6마리 (증강완료 데이터)\n",
        "- 8 : 1 : 1 비율\n",
        "- ImageDataGenerator로 추가 증강 ---> 학습데이터 늘리기\n",
        "- epochs=25"
      ],
      "metadata": {
        "id": "Z6-4JsxSVzjw"
      }
    },
    {
      "cell_type": "code",
      "source": [
        "from tensorflow.keras.applications.vgg16 import VGG16\n",
        "from tensorflow.keras.layers import Dense, Flatten\n",
        "from tensorflow.keras.models import Model\n",
        "from tensorflow.keras.optimizers import Adam\n",
        "from tensorflow.keras.preprocessing.image import ImageDataGenerator\n",
        "import math\n",
        "import glob\n",
        "import cv2\n",
        "import numpy as np\n",
        "import tensorflow as tf\n",
        "\n",
        "# train, validation, test 폴더 경로 설정\n",
        "train_dir = '/content/train'\n",
        "validation_dir = '/content/validation'\n",
        "test_dir = '/content/test'\n",
        "\n",
        "# 데이터셋 불러오기\n",
        "train_datagen = ImageDataGenerator(rescale=1./255,\n",
        "                                   rotation_range = 90,\n",
        "                                   width_shift_range=0.4,\n",
        "                                   height_shift_range=0.4,\n",
        "                                   vertical_flip =True,\n",
        "                                   horizontal_flip =True)\n",
        "validation_datagen = ImageDataGenerator(rescale=1./255,\n",
        "                                        rotation_range = 90,\n",
        "                                   width_shift_range=0.4,\n",
        "                                   height_shift_range=0.4,\n",
        "                                   vertical_flip =True,\n",
        "                                   horizontal_flip =True)\n",
        "test_datagen = ImageDataGenerator(rescale=1./255)\n",
        "\n",
        "train_generator = train_datagen.flow_from_directory(train_dir, target_size=(224, 224), batch_size=20, class_mode='categorical')\n",
        "validation_generator = validation_datagen.flow_from_directory(validation_dir, target_size=(224, 224), batch_size=20, class_mode='categorical')\n",
        "test_generator = test_datagen.flow_from_directory(test_dir, target_size=(224, 224), batch_size=20, class_mode='categorical')\n",
        "\n",
        "\n",
        "\n",
        "model = tf.keras.models.Sequential([\n",
        "  tf.keras.layers.Conv2D(32, (3,3), activation='relu', input_shape=(224, 224, 3)),\n",
        "  tf.keras.layers.MaxPooling2D(2,2),\n",
        "  tf.keras.layers.Conv2D(64, (3,3), activation='relu'),\n",
        "  tf.keras.layers.MaxPooling2D(2,2),\n",
        "  tf.keras.layers.Conv2D(128, (3,3), activation='relu'),\n",
        "  tf.keras.layers.MaxPooling2D(2,2),\n",
        "  tf.keras.layers.Conv2D(128, (3,3), activation='relu'),\n",
        "  tf.keras.layers.MaxPooling2D(2,2),\n",
        "  tf.keras.layers.Flatten(),\n",
        "  tf.keras.layers.Dense(512, activation='relu'),\n",
        "  tf.keras.layers.Dense(6, activation='sigmoid')\n",
        "])\n",
        "\n",
        "\n",
        "# 모델 컴파일: 모델을 컴파일하여 학습 과정에서 사용될 손실 함수, 최적화 알고리즘, 평가 지표 등을 지정합니다.\n",
        "model.compile(loss='categorical_crossentropy',\n",
        "              optimizer='adam',\n",
        "              metrics=['accuracy'])\n",
        "\n",
        "\n",
        "# 모델 학습: 생성된 모델을 학습시킵니다.\n",
        "history = model.fit(train_generator,\n",
        "                    steps_per_epoch=100,\n",
        "                    epochs=25,\n",
        "                    validation_data=validation_generator,\n",
        "                    validation_steps=50,\n",
        "                    verbose=2)"
      ],
      "metadata": {
        "colab": {
          "base_uri": "https://localhost:8080/"
        },
        "id": "gt9BvhU4Svvx",
        "outputId": "f859a38f-433d-4293-d60b-6dc1e1053a59"
      },
      "execution_count": null,
      "outputs": [
        {
          "output_type": "stream",
          "name": "stdout",
          "text": [
            "Found 2276 images belonging to 6 classes.\n",
            "Found 600 images belonging to 6 classes.\n",
            "Found 600 images belonging to 6 classes.\n",
            "Epoch 1/25\n"
          ]
        },
        {
          "output_type": "stream",
          "name": "stderr",
          "text": [
            "WARNING:tensorflow:Your input ran out of data; interrupting training. Make sure that your dataset or generator can generate at least `steps_per_epoch * epochs` batches (in this case, 50 batches). You may need to use the repeat() function when building your dataset.\n"
          ]
        },
        {
          "output_type": "stream",
          "name": "stdout",
          "text": [
            "100/100 - 327s - loss: 1.6188 - accuracy: 0.3677 - val_loss: 1.8589 - val_accuracy: 0.2317 - 327s/epoch - 3s/step\n",
            "Epoch 2/25\n",
            "100/100 - 286s - loss: 1.4902 - accuracy: 0.4915 - 286s/epoch - 3s/step\n",
            "Epoch 3/25\n",
            "100/100 - 274s - loss: 1.4814 - accuracy: 0.5005 - 274s/epoch - 3s/step\n",
            "Epoch 4/25\n",
            "100/100 - 276s - loss: 1.3670 - accuracy: 0.5256 - 276s/epoch - 3s/step\n",
            "Epoch 5/25\n",
            "100/100 - 272s - loss: 1.3292 - accuracy: 0.5321 - 272s/epoch - 3s/step\n",
            "Epoch 6/25\n",
            "100/100 - 270s - loss: 1.3321 - accuracy: 0.5346 - 270s/epoch - 3s/step\n",
            "Epoch 7/25\n",
            "100/100 - 272s - loss: 1.3087 - accuracy: 0.5361 - 272s/epoch - 3s/step\n",
            "Epoch 8/25\n",
            "100/100 - 276s - loss: 1.2698 - accuracy: 0.5366 - 276s/epoch - 3s/step\n",
            "Epoch 9/25\n",
            "100/100 - 274s - loss: 1.2649 - accuracy: 0.5475 - 274s/epoch - 3s/step\n",
            "Epoch 10/25\n",
            "100/100 - 272s - loss: 1.2667 - accuracy: 0.5436 - 272s/epoch - 3s/step\n",
            "Epoch 11/25\n",
            "100/100 - 277s - loss: 1.2133 - accuracy: 0.5470 - 277s/epoch - 3s/step\n",
            "Epoch 12/25\n",
            "100/100 - 280s - loss: 1.2710 - accuracy: 0.5416 - 280s/epoch - 3s/step\n",
            "Epoch 13/25\n",
            "100/100 - 281s - loss: 1.2614 - accuracy: 0.5300 - 281s/epoch - 3s/step\n",
            "Epoch 14/25\n",
            "100/100 - 280s - loss: 1.2237 - accuracy: 0.5561 - 280s/epoch - 3s/step\n",
            "Epoch 15/25\n",
            "100/100 - 282s - loss: 1.2181 - accuracy: 0.5531 - 282s/epoch - 3s/step\n",
            "Epoch 16/25\n",
            "100/100 - 278s - loss: 1.2547 - accuracy: 0.5536 - 278s/epoch - 3s/step\n",
            "Epoch 17/25\n",
            "100/100 - 279s - loss: 1.2241 - accuracy: 0.5646 - 279s/epoch - 3s/step\n",
            "Epoch 18/25\n",
            "100/100 - 281s - loss: 1.1823 - accuracy: 0.5590 - 281s/epoch - 3s/step\n",
            "Epoch 19/25\n",
            "100/100 - 279s - loss: 1.2157 - accuracy: 0.5575 - 279s/epoch - 3s/step\n",
            "Epoch 20/25\n",
            "100/100 - 280s - loss: 1.1994 - accuracy: 0.5636 - 280s/epoch - 3s/step\n",
            "Epoch 21/25\n",
            "100/100 - 287s - loss: 1.1715 - accuracy: 0.5757 - 287s/epoch - 3s/step\n",
            "Epoch 22/25\n",
            "100/100 - 277s - loss: 1.1668 - accuracy: 0.5745 - 277s/epoch - 3s/step\n",
            "Epoch 23/25\n",
            "100/100 - 279s - loss: 1.1616 - accuracy: 0.5765 - 279s/epoch - 3s/step\n",
            "Epoch 24/25\n",
            "100/100 - 288s - loss: 1.1560 - accuracy: 0.5750 - 288s/epoch - 3s/step\n",
            "Epoch 25/25\n",
            "100/100 - 287s - loss: 1.1305 - accuracy: 0.5957 - 287s/epoch - 3s/step\n"
          ]
        }
      ]
    },
    {
      "cell_type": "code",
      "source": [
        "test_loss, test_acc = model.evaluate(test_generator, verbose=2)"
      ],
      "metadata": {
        "colab": {
          "base_uri": "https://localhost:8080/"
        },
        "id": "LQUeg0sObtQI",
        "outputId": "e081a9fc-1c5e-43d6-9a25-dcf247a0febf"
      },
      "execution_count": null,
      "outputs": [
        {
          "output_type": "stream",
          "name": "stdout",
          "text": [
            "30/30 - 28s - loss: 1.4127 - accuracy: 0.4350 - 28s/epoch - 929ms/step\n"
          ]
        }
      ]
    },
    {
      "cell_type": "code",
      "source": [
        "from sklearn.metrics import classification_report\n",
        "\n",
        "# 테스트 데이터 예측\n",
        "y_pred = model.predict(test_generator)\n",
        "y_pred = np.argmax(y_pred, axis=1)\n",
        "\n",
        "# 클래스별 분류 보고서 출력\n",
        "print(classification_report(test_generator.classes, y_pred, target_names=test_generator.class_indices.keys()))"
      ],
      "metadata": {
        "colab": {
          "base_uri": "https://localhost:8080/"
        },
        "id": "bCcGzzCneEN0",
        "outputId": "f9ef7734-8818-4b9b-c9aa-383dc9e5ee6f"
      },
      "execution_count": null,
      "outputs": [
        {
          "output_type": "stream",
          "name": "stdout",
          "text": [
            "30/30 [==============================] - 29s 946ms/step\n",
            "              precision    recall  f1-score   support\n",
            "\n",
            "Browncroaker       0.13      0.13      0.13       100\n",
            "      Conger       0.33      0.01      0.02       100\n",
            "   Greenling       0.20      0.18      0.19       100\n",
            "     Gurnard       0.15      0.19      0.17       100\n",
            "  Mudskipper       0.19      0.53      0.28       100\n",
            " Sillaginoid       0.00      0.00      0.00       100\n",
            "\n",
            "    accuracy                           0.17       600\n",
            "   macro avg       0.17      0.17      0.13       600\n",
            "weighted avg       0.17      0.17      0.13       600\n",
            "\n"
          ]
        }
      ]
    },
    {
      "cell_type": "markdown",
      "source": [
        "## 3. MobileNet\n"
      ],
      "metadata": {
        "id": "pjNOZtXTKKoa"
      }
    },
    {
      "cell_type": "code",
      "source": [
        "# train, validation, test 폴더 경로 설정\n",
        "train_dir = '/content/train'\n",
        "validation_dir = '/content/validation'\n",
        "test_dir = '/content/test'\n",
        "\n",
        "# 데이터셋 불러오기\n",
        "train_datagen = ImageDataGenerator(rotation_range=90,\n",
        "                                    width_shift_range=0.4,\n",
        "                                    height_shift_range=0.4,\n",
        "                                    shear_range=0.2,\n",
        "                                    zoom_range=0.2,\n",
        "                                    horizontal_flip=True,\n",
        "                                    fill_mode='nearest',\n",
        "                                    rescale=1./255)\n",
        "validation_datagen = ImageDataGenerator(rescale=1./255)\n",
        "test_datagen = ImageDataGenerator(rescale=1./255)\n",
        "\n",
        "train_generator = train_datagen.flow_from_directory(train_dir, target_size=(224, 224), batch_size=20, class_mode='categorical')\n",
        "validation_generator = validation_datagen.flow_from_directory(validation_dir, target_size=(224, 224), batch_size=20, class_mode='categorical')\n",
        "test_generator = test_datagen.flow_from_directory(test_dir, target_size=(224, 224), batch_size=1100, class_mode='categorical',shuffle=False)\n",
        "test_generator_2 = test_datagen.flow_from_directory(test_dir, target_size=(224, 224), batch_size=1100, class_mode='binary',shuffle=False)\n",
        "bb=next(iter(test_generator_2))[1]"
      ],
      "metadata": {
        "colab": {
          "base_uri": "https://localhost:8080/"
        },
        "id": "ARP433eVraZc",
        "outputId": "a0320be8-98ac-4ae6-d272-6f35182e178f"
      },
      "execution_count": null,
      "outputs": [
        {
          "output_type": "stream",
          "name": "stdout",
          "text": [
            "Found 6140 images belonging to 11 classes.\n",
            "Found 1100 images belonging to 11 classes.\n",
            "Found 1100 images belonging to 11 classes.\n",
            "Found 1100 images belonging to 11 classes.\n"
          ]
        }
      ]
    },
    {
      "cell_type": "code",
      "source": [
        "\n",
        "\n",
        "# MobileNet 모델 불러오기\n",
        "base_model = tf.keras.applications.MobileNet(input_shape=(224, 224, 3), include_top=False, weights='imagenet')\n",
        "\n",
        "# 모델 아래쪽에 새로운 레이어 추가하기\n",
        "x = base_model.output\n",
        "x = tf.keras.layers.GlobalAveragePooling2D()(x)\n",
        "x = tf.keras.layers.Dense(512, activation='relu')(x)\n",
        "predictions = tf.keras.layers.Dense(11, activation='softmax')(x)\n",
        "\n",
        "# 새로운 모델 생성하기\n",
        "model_mobile = tf.keras.models.Model(inputs=base_model.input, outputs=predictions)\n",
        "\n",
        "# 기존 MobileNet 모델의 레이어는 학습되지 않도록 고정하기\n",
        "for layer in base_model.layers:\n",
        "    layer.trainable = False\n",
        "\n",
        "# 모델 컴파일: 모델을 컴파일하여 학습 과정에서 사용될 손실 함수, 최적화 알고리즘, 평가 지표 등을 지정합니다.\n",
        "model_mobile.compile(loss='categorical_crossentropy',\n",
        "              optimizer='adam',\n",
        "              metrics=['accuracy'])\n",
        "\n",
        "\n",
        "# 모델 학습: 생성된 모델을 학습시킵니다.\n",
        "history = model_mobile.fit(train_generator,\n",
        "                    steps_per_epoch=100,\n",
        "                    epochs=20,\n",
        "                    validation_data=validation_generator,\n",
        "                    validation_steps=50,\n",
        "                    verbose=2)\n"
      ],
      "metadata": {
        "id": "EHiB8Eoted8i",
        "colab": {
          "base_uri": "https://localhost:8080/"
        },
        "outputId": "fe16802c-91a8-4307-8fb8-181d2d0d9eb6"
      },
      "execution_count": null,
      "outputs": [
        {
          "output_type": "stream",
          "name": "stdout",
          "text": [
            "Downloading data from https://storage.googleapis.com/tensorflow/keras-applications/mobilenet/mobilenet_1_0_224_tf_no_top.h5\n",
            "17225924/17225924 [==============================] - 0s 0us/step\n",
            "Epoch 1/20\n",
            "100/100 - 177s - loss: 1.2190 - accuracy: 0.6050 - val_loss: 0.8194 - val_accuracy: 0.7170 - 177s/epoch - 2s/step\n",
            "Epoch 2/20\n",
            "100/100 - 165s - loss: 0.7678 - accuracy: 0.7555 - val_loss: 0.6568 - val_accuracy: 0.7790 - 165s/epoch - 2s/step\n",
            "Epoch 3/20\n",
            "100/100 - 197s - loss: 0.6672 - accuracy: 0.7860 - val_loss: 0.5895 - val_accuracy: 0.8230 - 197s/epoch - 2s/step\n",
            "Epoch 4/20\n",
            "100/100 - 198s - loss: 0.6496 - accuracy: 0.7905 - val_loss: 0.6576 - val_accuracy: 0.7890 - 198s/epoch - 2s/step\n",
            "Epoch 5/20\n",
            "100/100 - 164s - loss: 0.6594 - accuracy: 0.7815 - val_loss: 0.6708 - val_accuracy: 0.7840 - 164s/epoch - 2s/step\n",
            "Epoch 6/20\n",
            "100/100 - 166s - loss: 0.6066 - accuracy: 0.8085 - val_loss: 0.5209 - val_accuracy: 0.8370 - 166s/epoch - 2s/step\n",
            "Epoch 7/20\n",
            "100/100 - 171s - loss: 0.5840 - accuracy: 0.8165 - val_loss: 0.5658 - val_accuracy: 0.8200 - 171s/epoch - 2s/step\n",
            "Epoch 8/20\n",
            "100/100 - 166s - loss: 0.6086 - accuracy: 0.8010 - val_loss: 0.4825 - val_accuracy: 0.8550 - 166s/epoch - 2s/step\n",
            "Epoch 9/20\n",
            "100/100 - 164s - loss: 0.5425 - accuracy: 0.8300 - val_loss: 0.5443 - val_accuracy: 0.8400 - 164s/epoch - 2s/step\n",
            "Epoch 10/20\n",
            "100/100 - 163s - loss: 0.4997 - accuracy: 0.8300 - val_loss: 0.5277 - val_accuracy: 0.8330 - 163s/epoch - 2s/step\n",
            "Epoch 11/20\n",
            "100/100 - 195s - loss: 0.5345 - accuracy: 0.8255 - val_loss: 0.5207 - val_accuracy: 0.8340 - 195s/epoch - 2s/step\n",
            "Epoch 12/20\n",
            "100/100 - 196s - loss: 0.5173 - accuracy: 0.8310 - val_loss: 0.5742 - val_accuracy: 0.8310 - 196s/epoch - 2s/step\n",
            "Epoch 13/20\n",
            "100/100 - 199s - loss: 0.5181 - accuracy: 0.8315 - val_loss: 0.4864 - val_accuracy: 0.8450 - 199s/epoch - 2s/step\n",
            "Epoch 14/20\n",
            "100/100 - 196s - loss: 0.5021 - accuracy: 0.8290 - val_loss: 0.4512 - val_accuracy: 0.8520 - 196s/epoch - 2s/step\n",
            "Epoch 15/20\n",
            "100/100 - 195s - loss: 0.4950 - accuracy: 0.8365 - val_loss: 0.4409 - val_accuracy: 0.8660 - 195s/epoch - 2s/step\n",
            "Epoch 16/20\n",
            "100/100 - 162s - loss: 0.4909 - accuracy: 0.8435 - val_loss: 0.6076 - val_accuracy: 0.8180 - 162s/epoch - 2s/step\n",
            "Epoch 17/20\n",
            "100/100 - 198s - loss: 0.4925 - accuracy: 0.8360 - val_loss: 0.5008 - val_accuracy: 0.8410 - 198s/epoch - 2s/step\n",
            "Epoch 18/20\n",
            "100/100 - 196s - loss: 0.4959 - accuracy: 0.8465 - val_loss: 0.4544 - val_accuracy: 0.8590 - 196s/epoch - 2s/step\n",
            "Epoch 19/20\n",
            "100/100 - 160s - loss: 0.4162 - accuracy: 0.8555 - val_loss: 0.5917 - val_accuracy: 0.8330 - 160s/epoch - 2s/step\n",
            "Epoch 20/20\n",
            "100/100 - 196s - loss: 0.4352 - accuracy: 0.8610 - val_loss: 0.5372 - val_accuracy: 0.8370 - 196s/epoch - 2s/step\n"
          ]
        }
      ]
    },
    {
      "cell_type": "code",
      "source": [
        "test_loss, test_acc = model_mobile.evaluate(test_generator, verbose=2)"
      ],
      "metadata": {
        "colab": {
          "base_uri": "https://localhost:8080/"
        },
        "id": "XblKP7hfi1Bo",
        "outputId": "dfad4614-0f1f-460d-ddbf-765687e491dd"
      },
      "execution_count": null,
      "outputs": [
        {
          "output_type": "stream",
          "name": "stdout",
          "text": [
            "1/1 - 81s - loss: 0.3916 - accuracy: 0.8745 - 81s/epoch - 81s/step\n"
          ]
        }
      ]
    },
    {
      "cell_type": "code",
      "source": [
        "from sklearn.metrics import classification_report\n",
        "\n",
        "# 테스트 데이터 예측\n",
        "y_pred = model_mobile.predict(test_generator)\n",
        "y_pred = np.argmax(y_pred, axis=1)\n",
        "\n",
        "# 클래스별 분류 보고서 출력\n",
        "print(classification_report(bb, y_pred, target_names=test_generator.class_indices.keys()))"
      ],
      "metadata": {
        "colab": {
          "base_uri": "https://localhost:8080/"
        },
        "id": "UVHH8TuspIQp",
        "outputId": "54594382-af6c-456c-d447-9dcba0ea1304"
      },
      "execution_count": null,
      "outputs": [
        {
          "output_type": "stream",
          "name": "stdout",
          "text": [
            "1/1 [==============================] - 68s 68s/step\n",
            "              precision    recall  f1-score   support\n",
            "\n",
            "  BlackBream       0.86      0.90      0.88       100\n",
            "Browncroaker       0.96      0.64      0.77       100\n",
            "      Conger       0.97      0.91      0.94       100\n",
            "   Greenling       0.93      0.70      0.80       100\n",
            "     Gurnard       0.87      0.95      0.91       100\n",
            "     Halibut       0.84      0.95      0.89       100\n",
            "  Mudskipper       0.91      0.84      0.87       100\n",
            "    RedBream       0.91      0.97      0.94       100\n",
            "   RockBream       0.97      0.89      0.93       100\n",
            "    RockFish       0.68      1.00      0.81       100\n",
            " Sillaginoid       0.88      0.87      0.87       100\n",
            "\n",
            "    accuracy                           0.87      1100\n",
            "   macro avg       0.89      0.87      0.87      1100\n",
            "weighted avg       0.89      0.87      0.87      1100\n",
            "\n"
          ]
        }
      ]
    },
    {
      "cell_type": "code",
      "source": [
        "y_pred"
      ],
      "metadata": {
        "colab": {
          "base_uri": "https://localhost:8080/"
        },
        "id": "MtZ-nxduaakl",
        "outputId": "9e33a261-b188-45ab-82cd-c9a4a81dcabf"
      },
      "execution_count": null,
      "outputs": [
        {
          "output_type": "execute_result",
          "data": {
            "text/plain": [
              "array([9, 1, 8, ..., 2, 5, 4])"
            ]
          },
          "metadata": {},
          "execution_count": 66
        }
      ]
    },
    {
      "cell_type": "code",
      "source": [
        "test_generator.classes"
      ],
      "metadata": {
        "colab": {
          "base_uri": "https://localhost:8080/"
        },
        "id": "nEzvrAxTqr7t",
        "outputId": "3bfe22c7-3914-4877-b133-0293a57de931"
      },
      "execution_count": null,
      "outputs": [
        {
          "output_type": "execute_result",
          "data": {
            "text/plain": [
              "array([ 0,  0,  0, ..., 10, 10, 10], dtype=int32)"
            ]
          },
          "metadata": {},
          "execution_count": 67
        }
      ]
    },
    {
      "cell_type": "code",
      "source": [
        "bb"
      ],
      "metadata": {
        "colab": {
          "base_uri": "https://localhost:8080/"
        },
        "id": "EpUVJ1XFu0j0",
        "outputId": "3df5966c-2595-4a37-e0c1-595086c5a644"
      },
      "execution_count": null,
      "outputs": [
        {
          "output_type": "execute_result",
          "data": {
            "text/plain": [
              "array([ 0.,  0.,  0., ..., 10., 10., 10.], dtype=float32)"
            ]
          },
          "metadata": {},
          "execution_count": 73
        }
      ]
    },
    {
      "cell_type": "markdown",
      "source": [
        "# 모델 저장"
      ],
      "metadata": {
        "id": "Cyju_odR3CTt"
      }
    },
    {
      "cell_type": "code",
      "source": [
        "model_mobile.save('/content/model/mobileNet.h5')"
      ],
      "metadata": {
        "id": "31oaGegwvcVb"
      },
      "execution_count": null,
      "outputs": []
    },
    {
      "cell_type": "code",
      "source": [
        "# 테스트를 위해 방금 사용한 모델 메모리에서 삭제 \n",
        "del model"
      ],
      "metadata": {
        "id": "ZmU9mWgDv-91"
      },
      "execution_count": null,
      "outputs": []
    },
    {
      "cell_type": "code",
      "source": [
        "# zip 파일 생성\n",
        "!zip -r /content/model.zip /content/model/mobileNet.h5\n",
        "\n",
        "# 파일 다운로드\n",
        "files.download('/content/model.zip')"
      ],
      "metadata": {
        "colab": {
          "base_uri": "https://localhost:8080/",
          "height": 53
        },
        "id": "YHqdbzrVQlzq",
        "outputId": "c128ecfe-a773-4a24-cad2-ad9d9878a665"
      },
      "execution_count": null,
      "outputs": [
        {
          "output_type": "stream",
          "name": "stdout",
          "text": [
            "updating: content/model/mobileNet.h5 (deflated 8%)\n"
          ]
        },
        {
          "output_type": "display_data",
          "data": {
            "text/plain": [
              "<IPython.core.display.Javascript object>"
            ],
            "application/javascript": [
              "\n",
              "    async function download(id, filename, size) {\n",
              "      if (!google.colab.kernel.accessAllowed) {\n",
              "        return;\n",
              "      }\n",
              "      const div = document.createElement('div');\n",
              "      const label = document.createElement('label');\n",
              "      label.textContent = `Downloading \"${filename}\": `;\n",
              "      div.appendChild(label);\n",
              "      const progress = document.createElement('progress');\n",
              "      progress.max = size;\n",
              "      div.appendChild(progress);\n",
              "      document.body.appendChild(div);\n",
              "\n",
              "      const buffers = [];\n",
              "      let downloaded = 0;\n",
              "\n",
              "      const channel = await google.colab.kernel.comms.open(id);\n",
              "      // Send a message to notify the kernel that we're ready.\n",
              "      channel.send({})\n",
              "\n",
              "      for await (const message of channel.messages) {\n",
              "        // Send a message to notify the kernel that we're ready.\n",
              "        channel.send({})\n",
              "        if (message.buffers) {\n",
              "          for (const buffer of message.buffers) {\n",
              "            buffers.push(buffer);\n",
              "            downloaded += buffer.byteLength;\n",
              "            progress.value = downloaded;\n",
              "          }\n",
              "        }\n",
              "      }\n",
              "      const blob = new Blob(buffers, {type: 'application/binary'});\n",
              "      const a = document.createElement('a');\n",
              "      a.href = window.URL.createObjectURL(blob);\n",
              "      a.download = filename;\n",
              "      div.appendChild(a);\n",
              "      a.click();\n",
              "      div.remove();\n",
              "    }\n",
              "  "
            ]
          },
          "metadata": {}
        },
        {
          "output_type": "display_data",
          "data": {
            "text/plain": [
              "<IPython.core.display.Javascript object>"
            ],
            "application/javascript": [
              "download(\"download_75a9b206-1481-41c5-836e-046ed1abfce5\", \"model.zip\", 17970129)"
            ]
          },
          "metadata": {}
        }
      ]
    },
    {
      "cell_type": "markdown",
      "source": [
        "# 저장한 모델 불러와서 test 해보기"
      ],
      "metadata": {
        "id": "hJMYpjqZ3EhT"
      }
    },
    {
      "cell_type": "code",
      "source": [
        "# 모델 새로 불러오기\n",
        "from tensorflow.keras.models import Sequential, load_model\n",
        "model_mobile = load_model('/content/model/mobileNet.hdf5')"
      ],
      "metadata": {
        "id": "nGU28YXlKX2U"
      },
      "execution_count": null,
      "outputs": []
    },
    {
      "cell_type": "code",
      "source": [
        "print(dir(test_generator_2))"
      ],
      "metadata": {
        "colab": {
          "base_uri": "https://localhost:8080/"
        },
        "id": "l8cefzoLQo0e",
        "outputId": "71f16b63-a81e-4cd3-cba5-2f928891dbcb"
      },
      "execution_count": null,
      "outputs": [
        {
          "output_type": "stream",
          "name": "stdout",
          "text": [
            "['__class__', '__delattr__', '__dict__', '__dir__', '__doc__', '__eq__', '__format__', '__ge__', '__getattribute__', '__getitem__', '__gt__', '__hash__', '__init__', '__init_subclass__', '__iter__', '__le__', '__len__', '__lt__', '__module__', '__ne__', '__new__', '__next__', '__reduce__', '__reduce_ex__', '__repr__', '__setattr__', '__sizeof__', '__str__', '__subclasshook__', '__weakref__', '_filepaths', '_flow_index', '_get_batches_of_transformed_samples', '_keras_api_names', '_keras_api_names_v1', '_set_index_array', 'allowed_class_modes', 'batch_index', 'batch_size', 'class_indices', 'class_mode', 'classes', 'color_mode', 'data_format', 'directory', 'dtype', 'filenames', 'filepaths', 'image_data_generator', 'image_shape', 'index_array', 'index_generator', 'interpolation', 'keep_aspect_ratio', 'labels', 'lock', 'n', 'next', 'num_classes', 'on_epoch_end', 'reset', 'sample_weight', 'samples', 'save_format', 'save_prefix', 'save_to_dir', 'seed', 'set_processing_attrs', 'shuffle', 'split', 'subset', 'target_size', 'total_batches_seen', 'white_list_formats']\n"
          ]
        }
      ]
    },
    {
      "cell_type": "code",
      "source": [
        "class_names = test_generator_2.class_indices\n",
        "class_names"
      ],
      "metadata": {
        "colab": {
          "base_uri": "https://localhost:8080/"
        },
        "id": "YfHVFTm1RMyW",
        "outputId": "3d7bb4aa-5062-49f4-8273-d2eaf82c0799"
      },
      "execution_count": null,
      "outputs": [
        {
          "output_type": "execute_result",
          "data": {
            "text/plain": [
              "{'BlackBream': 0,\n",
              " 'Browncroaker': 1,\n",
              " 'Conger': 2,\n",
              " 'Greenling': 3,\n",
              " 'Gurnard': 4,\n",
              " 'Halibut': 5,\n",
              " 'Mudskipper': 6,\n",
              " 'RedBream': 7,\n",
              " 'RockBream': 8,\n",
              " 'RockFish': 9,\n",
              " 'Sillaginoid': 10}"
            ]
          },
          "metadata": {},
          "execution_count": 79
        }
      ]
    },
    {
      "cell_type": "code",
      "source": [
        "class_names = {0:'BlackBream',\n",
        "               1:'Browncroaker',\n",
        "               2:'Conger',\n",
        "               3:'Greenling',\n",
        "               4:'Gurnard',\n",
        "               5:'Halibut',\n",
        "               6:'Mudskipper',\n",
        "               7:'RedBream',\n",
        "               8:'RockBream',\n",
        "               9:'RockFish',\n",
        "               10:'Sillaginoid'}"
      ],
      "metadata": {
        "id": "lq8iJmVd0oJK"
      },
      "execution_count": null,
      "outputs": []
    },
    {
      "cell_type": "code",
      "source": [
        "predicted_labels"
      ],
      "metadata": {
        "colab": {
          "base_uri": "https://localhost:8080/"
        },
        "id": "EF6zEgX4SRWw",
        "outputId": "48d4a81f-83ad-4cbe-e424-6cb2b1b8b651"
      },
      "execution_count": null,
      "outputs": [
        {
          "output_type": "execute_result",
          "data": {
            "text/plain": [
              "array([ 0,  2,  0,  4,  6, 10])"
            ]
          },
          "metadata": {},
          "execution_count": 127
        }
      ]
    },
    {
      "cell_type": "code",
      "source": [
        "type(practice_generator_2.classes)"
      ],
      "metadata": {
        "colab": {
          "base_uri": "https://localhost:8080/"
        },
        "id": "a-ZT6pYmSpWi",
        "outputId": "635740a1-084d-4479-b945-921494ef5644"
      },
      "execution_count": null,
      "outputs": [
        {
          "output_type": "execute_result",
          "data": {
            "text/plain": [
              "numpy.ndarray"
            ]
          },
          "metadata": {},
          "execution_count": 129
        }
      ]
    },
    {
      "cell_type": "markdown",
      "source": [
        "확인용"
      ],
      "metadata": {
        "id": "KrJWUsmt62vW"
      }
    },
    {
      "cell_type": "code",
      "source": [
        "# 모델 테스트하기\n",
        "import numpy as np\n",
        "from PIL import Image\n",
        "\n",
        "# 입력 이미지를 로드하여 전처리\n",
        "prac_path = '/content/practice'\n",
        "img = Image.open(os.path.join(prac_path, '감성돔 (1).png')).resize((224, 224))\n",
        "img_array = np.array(img) / 255.0  # 이미지 배열의 값 범위를 0~1로 조정\n",
        "img_tensor = np.expand_dims(img_array, axis=0)  # 배치 차원 추가\n",
        "\n",
        "# 모델에 입력하여 예측값 출력\n",
        "predicted = model_mobile.predict(img_tensor)\n",
        "predicted_class_index = np.argmax(predicted) # 예측된 출력값 predicted 중 가장 큰 값을 가지는 \"인덱스\"를 반환 --> 0 번째가 제일 큼큼\n",
        "predicted_class_name = class_names[predicted_class_index] # 0번째 인덱스의 값 출력\n",
        "\n",
        "# 정답 레이블 불러오기\n",
        "label_file = '감성돔 (1).png'\n",
        "# with open(os.path.join(prac_path, label_file)) as f:\n",
        "#     labels = f.read().splitlines()\n",
        "\n",
        "# 이미지 파일 이름에 해당하는 정답 레이블 가져오기\n",
        "img_index = label_file.split(' ')[0]  # 이미지 파일 이름에서 인덱스 추출\n",
        "true_class_name = img_index\n",
        "\n",
        "print('Predicted class:', predicted_class_name , '/', 'True class:', true_class_name)\n"
      ],
      "metadata": {
        "colab": {
          "base_uri": "https://localhost:8080/"
        },
        "id": "hTYfuzJFo5ev",
        "outputId": "90490a92-92aa-4974-d207-3738e086942a"
      },
      "execution_count": null,
      "outputs": [
        {
          "output_type": "stream",
          "name": "stdout",
          "text": [
            "1/1 [==============================] - 0s 66ms/step\n",
            "Predicted class: BlackBream / True class: 감성돔\n"
          ]
        }
      ]
    },
    {
      "cell_type": "code",
      "source": [
        "predicted"
      ],
      "metadata": {
        "colab": {
          "base_uri": "https://localhost:8080/"
        },
        "id": "znieDvyEzUcI",
        "outputId": "7c7dd553-71d9-4348-df55-4247b4a61ff9"
      },
      "execution_count": null,
      "outputs": [
        {
          "output_type": "execute_result",
          "data": {
            "text/plain": [
              "array([[5.29489219e-01, 7.49915780e-04, 4.70724757e-08, 4.41513112e-04,\n",
              "        1.92524512e-05, 1.06395935e-04, 4.55898657e-07, 3.95630419e-01,\n",
              "        1.54098589e-03, 7.20048249e-02, 1.70004387e-05]], dtype=float32)"
            ]
          },
          "metadata": {},
          "execution_count": 78
        }
      ]
    },
    {
      "cell_type": "markdown",
      "source": [
        "실전 테스트"
      ],
      "metadata": {
        "id": "TPjQdsEY66bP"
      }
    },
    {
      "cell_type": "code",
      "source": [
        "import os\n",
        "import numpy as np\n",
        "from PIL import Image\n",
        "\n",
        "prac_path = '/content/practice/'\n",
        "prac_list = [file for file in os.listdir(prac_path) if file.endswith(('.jpeg', '.jpg', '.png'))]\n",
        "len(prac_list)\n",
        "\n",
        "for pic in prac_list :\n",
        "  img = Image.open(os.path.join(prac_path, pic)).resize((224,224))\n",
        "  img_array = np.array(img) / 255.0 # 이미지 배열의 값 범위를 0~1로 조정\n",
        "  img_tensor = np.expand_dims(img_array, axis = 0) # 배치 차원 추가\n",
        "\n",
        "  # 모델에 입력하여 예측값 출력\n",
        "  pred = model_mobile.predict(img_tensor)\n",
        "  pred_class_index = np.argmax(pred)\n",
        "  pred_class_name = class_names[pred_class_index]\n",
        "\n",
        "  # 이미지파일 이름에서 해당하는 정답레이블 따오기\n",
        "  true_class_name = pic.split(' ')[0] \n",
        "\n",
        "  print('Predicted class:', pred_class_name , '/', 'True class:', true_class_name)"
      ],
      "metadata": {
        "colab": {
          "base_uri": "https://localhost:8080/"
        },
        "id": "d2b2oKMdpbWh",
        "outputId": "4c67ae30-1bc9-4939-8252-b3514765b67f"
      },
      "execution_count": null,
      "outputs": [
        {
          "output_type": "stream",
          "name": "stdout",
          "text": [
            "1/1 [==============================] - 0s 124ms/step\n",
            "Predicted class: Halibut / True class: Greenling230.png\n",
            "1/1 [==============================] - 0s 82ms/step\n",
            "Predicted class: RedBream / True class: RedBream135.png\n",
            "1/1 [==============================] - 0s 69ms/step\n",
            "Predicted class: RockFish / True class: Sillaginoid26.jpg\n",
            "1/1 [==============================] - 0s 74ms/step\n",
            "Predicted class: RockFish / True class: Greenling262.jpg\n",
            "1/1 [==============================] - 0s 63ms/step\n",
            "Predicted class: Halibut / True class: Hailbut245.png\n",
            "1/1 [==============================] - 0s 65ms/step\n",
            "Predicted class: Halibut / True class: Hailbut176.png\n",
            "1/1 [==============================] - 0s 60ms/step\n",
            "Predicted class: RockBream / True class: RockBream182.png\n",
            "1/1 [==============================] - 0s 63ms/step\n",
            "Predicted class: RockFish / True class: RockFish136.png\n",
            "1/1 [==============================] - 0s 61ms/step\n",
            "Predicted class: Greenling / True class: Greenling72.jpeg\n",
            "1/1 [==============================] - 0s 72ms/step\n",
            "Predicted class: Halibut / True class: Hailbut33.png\n",
            "1/1 [==============================] - 0s 70ms/step\n",
            "Predicted class: Conger / True class: Conger160.png\n",
            "1/1 [==============================] - 0s 69ms/step\n",
            "Predicted class: Halibut / True class: Hailbut145.png\n",
            "1/1 [==============================] - 0s 105ms/step\n",
            "Predicted class: Mudskipper / True class: Mudskipper48.png\n",
            "1/1 [==============================] - 0s 66ms/step\n",
            "Predicted class: RockFish / True class: RockFish74.png\n",
            "1/1 [==============================] - 0s 66ms/step\n",
            "Predicted class: Gurnard / True class: Mudskipper143.png\n",
            "1/1 [==============================] - 0s 63ms/step\n",
            "Predicted class: BlackBream / True class: BlackBream22.png\n",
            "1/1 [==============================] - 0s 88ms/step\n",
            "Predicted class: RedBream / True class: RedBream59.png\n",
            "1/1 [==============================] - 0s 98ms/step\n",
            "Predicted class: RockFish / True class: RockFish39.png\n",
            "1/1 [==============================] - 0s 111ms/step\n",
            "Predicted class: Greenling / True class: Greenling5.png\n",
            "1/1 [==============================] - 0s 107ms/step\n",
            "Predicted class: Gurnard / True class: Gurnard41.png\n",
            "1/1 [==============================] - 0s 124ms/step\n",
            "Predicted class: Sillaginoid / True class: Sillaginoid43.png\n",
            "1/1 [==============================] - 0s 104ms/step\n",
            "Predicted class: RockFish / True class: RockFish251.jpeg\n",
            "1/1 [==============================] - 0s 113ms/step\n",
            "Predicted class: RockFish / True class: BlackBream35.png\n",
            "1/1 [==============================] - 0s 109ms/step\n",
            "Predicted class: BlackBream / True class: BlackBream30.png\n",
            "1/1 [==============================] - 0s 105ms/step\n",
            "Predicted class: Conger / True class: Conger4.png\n",
            "1/1 [==============================] - 0s 121ms/step\n",
            "Predicted class: BlackBream / True class: RedBream32.png\n",
            "1/1 [==============================] - 0s 111ms/step\n",
            "Predicted class: RockFish / True class: RockFish181.png\n",
            "1/1 [==============================] - 0s 116ms/step\n",
            "Predicted class: RockBream / True class: Mudskipper173.png\n",
            "1/1 [==============================] - 0s 59ms/step\n",
            "Predicted class: Mudskipper / True class: Greenling11.png\n",
            "1/1 [==============================] - 0s 61ms/step\n",
            "Predicted class: Halibut / True class: Hailbut45.png\n",
            "1/1 [==============================] - 0s 72ms/step\n",
            "Predicted class: Sillaginoid / True class: Sillaginoid167.png\n",
            "1/1 [==============================] - 0s 65ms/step\n",
            "Predicted class: RedBream / True class: RedBream52.png\n",
            "1/1 [==============================] - 0s 82ms/step\n",
            "Predicted class: RockFish / True class: RockFish118.png\n",
            "1/1 [==============================] - 0s 71ms/step\n",
            "Predicted class: BlackBream / True class: BlackBream68.png\n",
            "1/1 [==============================] - 0s 62ms/step\n",
            "Predicted class: RockFish / True class: RockFish224.png\n",
            "1/1 [==============================] - 0s 68ms/step\n",
            "Predicted class: RedBream / True class: RedBream7.jpeg\n",
            "1/1 [==============================] - 0s 62ms/step\n",
            "Predicted class: Conger / True class: Conger50.png\n",
            "1/1 [==============================] - 0s 72ms/step\n",
            "Predicted class: BlackBream / True class: BlackBream94.png\n",
            "1/1 [==============================] - 0s 62ms/step\n",
            "Predicted class: BlackBream / True class: BlackBream168.png\n",
            "1/1 [==============================] - 0s 62ms/step\n",
            "Predicted class: Gurnard / True class: Mudskipper132.png\n",
            "1/1 [==============================] - 0s 69ms/step\n",
            "Predicted class: RockBream / True class: RockBream228.png\n",
            "1/1 [==============================] - 0s 62ms/step\n",
            "Predicted class: Conger / True class: Conger209.png\n",
            "1/1 [==============================] - 0s 63ms/step\n",
            "Predicted class: BlackBream / True class: BlackBream78.png\n",
            "1/1 [==============================] - 0s 67ms/step\n",
            "Predicted class: RockBream / True class: RockBream99.png\n",
            "1/1 [==============================] - 0s 86ms/step\n",
            "Predicted class: Mudskipper / True class: Mudskipper128.png\n",
            "1/1 [==============================] - 0s 63ms/step\n",
            "Predicted class: RedBream / True class: RedBream93.png\n",
            "1/1 [==============================] - 0s 79ms/step\n",
            "Predicted class: RedBream / True class: RedBream70.png\n",
            "1/1 [==============================] - 0s 63ms/step\n",
            "Predicted class: Gurnard / True class: Gurnard150.png\n",
            "1/1 [==============================] - 0s 93ms/step\n",
            "Predicted class: Gurnard / True class: Gurnard170.png\n",
            "1/1 [==============================] - 0s 63ms/step\n",
            "Predicted class: Halibut / True class: Hailbut153.png\n",
            "1/1 [==============================] - 0s 81ms/step\n",
            "Predicted class: BlackBream / True class: BlackBream66.png\n",
            "1/1 [==============================] - 0s 90ms/step\n",
            "Predicted class: Gurnard / True class: Gurnard201.png\n",
            "1/1 [==============================] - 0s 69ms/step\n",
            "Predicted class: RedBream / True class: RedBream102.png\n",
            "1/1 [==============================] - 0s 62ms/step\n",
            "Predicted class: Halibut / True class: Greenling123.jpeg\n",
            "1/1 [==============================] - 0s 67ms/step\n",
            "Predicted class: Gurnard / True class: Gurnard87.png\n",
            "1/1 [==============================] - 0s 93ms/step\n",
            "Predicted class: RedBream / True class: RedBream16.png\n",
            "1/1 [==============================] - 0s 60ms/step\n",
            "Predicted class: BlackBream / True class: BlackBream164.png\n",
            "1/1 [==============================] - 0s 61ms/step\n",
            "Predicted class: Browncroaker / True class: Browncroader210.png\n",
            "1/1 [==============================] - 0s 63ms/step\n",
            "Predicted class: BlackBream / True class: RockBream60.png\n",
            "1/1 [==============================] - 0s 87ms/step\n",
            "Predicted class: RedBream / True class: RedBream115.png\n",
            "1/1 [==============================] - 0s 64ms/step\n",
            "Predicted class: BlackBream / True class: BlackBream207.png\n",
            "1/1 [==============================] - 0s 59ms/step\n",
            "Predicted class: Halibut / True class: Gurnard8.png\n",
            "1/1 [==============================] - 0s 63ms/step\n",
            "Predicted class: RockFish / True class: RockBream108.png\n",
            "1/1 [==============================] - 0s 62ms/step\n",
            "Predicted class: Mudskipper / True class: Mudskipper197.png\n",
            "1/1 [==============================] - 0s 64ms/step\n",
            "Predicted class: BlackBream / True class: BlackBream190.png\n",
            "1/1 [==============================] - 0s 104ms/step\n",
            "Predicted class: Halibut / True class: Hailbut174.png\n",
            "1/1 [==============================] - 0s 64ms/step\n",
            "Predicted class: Conger / True class: Conger252.png\n",
            "1/1 [==============================] - 0s 66ms/step\n",
            "Predicted class: BlackBream / True class: BlackBream36.png\n",
            "1/1 [==============================] - 0s 84ms/step\n",
            "Predicted class: BlackBream / True class: BlackBream18.png\n",
            "1/1 [==============================] - 0s 71ms/step\n",
            "Predicted class: BlackBream / True class: Browncroader217.png\n",
            "1/1 [==============================] - 0s 79ms/step\n",
            "Predicted class: Conger / True class: Conger175.png\n",
            "1/1 [==============================] - 0s 79ms/step\n",
            "Predicted class: RockFish / True class: BlackBream255.png\n",
            "1/1 [==============================] - 0s 66ms/step\n",
            "Predicted class: Gurnard / True class: Gurnard225.png\n",
            "1/1 [==============================] - 0s 70ms/step\n",
            "Predicted class: Gurnard / True class: Gurnard49.png\n",
            "1/1 [==============================] - 0s 90ms/step\n",
            "Predicted class: Gurnard / True class: Mudskipper260.png\n",
            "1/1 [==============================] - 0s 67ms/step\n",
            "Predicted class: Conger / True class: Conger212.png\n",
            "1/1 [==============================] - 0s 72ms/step\n",
            "Predicted class: Conger / True class: Conger148.png\n",
            "1/1 [==============================] - 0s 64ms/step\n",
            "Predicted class: RockFish / True class: RockFish152.png\n",
            "1/1 [==============================] - 0s 72ms/step\n",
            "Predicted class: RockFish / True class: RockFish112.png\n",
            "1/1 [==============================] - 0s 123ms/step\n",
            "Predicted class: Gurnard / True class: RockFish161.png\n",
            "1/1 [==============================] - 0s 118ms/step\n",
            "Predicted class: RedBream / True class: RedBream165.png\n",
            "1/1 [==============================] - 0s 107ms/step\n",
            "Predicted class: Halibut / True class: Hailbut199.png\n",
            "1/1 [==============================] - 0s 98ms/step\n",
            "Predicted class: BlackBream / True class: RockFish0.png\n",
            "1/1 [==============================] - 0s 106ms/step\n",
            "Predicted class: Gurnard / True class: Sillaginoid238.png\n",
            "1/1 [==============================] - 0s 164ms/step\n",
            "Predicted class: BlackBream / True class: BlackBream89.png\n",
            "1/1 [==============================] - 0s 135ms/step\n",
            "Predicted class: RedBream / True class: RedBream205.png\n",
            "1/1 [==============================] - 0s 103ms/step\n",
            "Predicted class: Conger / True class: Conger9.png\n",
            "1/1 [==============================] - 0s 123ms/step\n",
            "Predicted class: Halibut / True class: RedBream83.png\n",
            "1/1 [==============================] - 0s 63ms/step\n",
            "Predicted class: Conger / True class: Conger124.png\n",
            "1/1 [==============================] - 0s 64ms/step\n",
            "Predicted class: Browncroaker / True class: Browncroader261.png\n",
            "1/1 [==============================] - 0s 64ms/step\n",
            "Predicted class: RockFish / True class: BlackBream259.png\n",
            "1/1 [==============================] - 0s 82ms/step\n",
            "Predicted class: RockFish / True class: RockFish149.png\n",
            "1/1 [==============================] - 0s 76ms/step\n",
            "Predicted class: Greenling / True class: Greenling188.png\n",
            "1/1 [==============================] - 0s 66ms/step\n",
            "Predicted class: Gurnard / True class: Gurnard134.png\n",
            "1/1 [==============================] - 0s 73ms/step\n",
            "Predicted class: RedBream / True class: RedBream215.png\n",
            "1/1 [==============================] - 0s 67ms/step\n",
            "Predicted class: Gurnard / True class: Gurnard10.png\n",
            "1/1 [==============================] - 0s 92ms/step\n",
            "Predicted class: BlackBream / True class: BlackBream162.png\n",
            "1/1 [==============================] - 0s 61ms/step\n",
            "Predicted class: Conger / True class: Mudskipper218.png\n",
            "1/1 [==============================] - 0s 60ms/step\n",
            "Predicted class: Gurnard / True class: Gurnard154.png\n",
            "1/1 [==============================] - 0s 65ms/step\n",
            "Predicted class: RockBream / True class: RockBream144.png\n",
            "1/1 [==============================] - 0s 63ms/step\n",
            "Predicted class: Mudskipper / True class: Hailbut90.png\n",
            "1/1 [==============================] - 0s 67ms/step\n",
            "Predicted class: Greenling / True class: Greenling114.png\n",
            "1/1 [==============================] - 0s 62ms/step\n",
            "Predicted class: BlackBream / True class: BlackBream103.png\n",
            "1/1 [==============================] - 0s 97ms/step\n",
            "Predicted class: BlackBream / True class: BlackBream125.png\n",
            "1/1 [==============================] - 0s 67ms/step\n",
            "Predicted class: Halibut / True class: Hailbut62.jpeg\n",
            "1/1 [==============================] - 0s 89ms/step\n",
            "Predicted class: Conger / True class: Conger166.png\n",
            "1/1 [==============================] - 0s 62ms/step\n",
            "Predicted class: Gurnard / True class: Gurnard110.png\n",
            "1/1 [==============================] - 0s 62ms/step\n",
            "Predicted class: BlackBream / True class: Browncroader23.png\n",
            "1/1 [==============================] - 0s 69ms/step\n",
            "Predicted class: Conger / True class: Conger37.png\n",
            "1/1 [==============================] - 0s 59ms/step\n",
            "Predicted class: BlackBream / True class: BlackBream76.png\n",
            "1/1 [==============================] - 0s 63ms/step\n",
            "Predicted class: Halibut / True class: Browncroader233.png\n",
            "1/1 [==============================] - 0s 76ms/step\n",
            "Predicted class: RockFish / True class: Greenling247.png\n",
            "1/1 [==============================] - 0s 106ms/step\n",
            "Predicted class: RockBream / True class: RockBream91.png\n",
            "1/1 [==============================] - 0s 66ms/step\n",
            "Predicted class: Halibut / True class: Hailbut113.png\n",
            "1/1 [==============================] - 0s 93ms/step\n",
            "Predicted class: BlackBream / True class: BlackBream57.png\n",
            "1/1 [==============================] - 0s 64ms/step\n",
            "Predicted class: RockFish / True class: RockFish206.png\n",
            "1/1 [==============================] - 0s 67ms/step\n",
            "Predicted class: Greenling / True class: Greenling101.png\n",
            "1/1 [==============================] - 0s 59ms/step\n",
            "Predicted class: Halibut / True class: Hailbut234.png\n",
            "1/1 [==============================] - 0s 63ms/step\n",
            "Predicted class: RedBream / True class: RedBream171.png\n",
            "1/1 [==============================] - 0s 61ms/step\n",
            "Predicted class: Gurnard / True class: Gurnard77.png\n",
            "1/1 [==============================] - 0s 67ms/step\n",
            "Predicted class: RockFish / True class: BlackBream58.png\n",
            "1/1 [==============================] - 0s 101ms/step\n",
            "Predicted class: Greenling / True class: Greenling53.png\n",
            "1/1 [==============================] - 0s 62ms/step\n",
            "Predicted class: Greenling / True class: Greenling69.png\n",
            "1/1 [==============================] - 0s 66ms/step\n",
            "Predicted class: BlackBream / True class: BlackBream86.png\n",
            "1/1 [==============================] - 0s 59ms/step\n",
            "Predicted class: Conger / True class: Conger155.png\n",
            "1/1 [==============================] - 0s 80ms/step\n",
            "Predicted class: RockFish / True class: RockFish31.png\n",
            "1/1 [==============================] - 0s 68ms/step\n",
            "Predicted class: RockFish / True class: Greenling231.jpeg\n",
            "1/1 [==============================] - 0s 65ms/step\n",
            "Predicted class: Gurnard / True class: Gurnard141.png\n",
            "1/1 [==============================] - 0s 72ms/step\n",
            "Predicted class: Halibut / True class: Hailbut246.png\n",
            "1/1 [==============================] - 0s 62ms/step\n",
            "Predicted class: Gurnard / True class: Gurnard109.png\n",
            "1/1 [==============================] - 0s 61ms/step\n",
            "Predicted class: BlackBream / True class: BlackBream14.png\n",
            "1/1 [==============================] - 0s 65ms/step\n",
            "Predicted class: RockFish / True class: Browncroader229.png\n",
            "1/1 [==============================] - 0s 59ms/step\n",
            "Predicted class: Halibut / True class: Hailbut204.png\n",
            "1/1 [==============================] - 0s 67ms/step\n",
            "Predicted class: Gurnard / True class: Mudskipper172.png\n",
            "1/1 [==============================] - 0s 60ms/step\n",
            "Predicted class: RockBream / True class: RockBream100.png\n",
            "1/1 [==============================] - 0s 78ms/step\n",
            "Predicted class: RockBream / True class: RockBream257.png\n",
            "1/1 [==============================] - 0s 90ms/step\n",
            "Predicted class: RockFish / True class: BlackBream107.png\n",
            "1/1 [==============================] - 0s 68ms/step\n",
            "Predicted class: RockBream / True class: RockBream56.png\n",
            "1/1 [==============================] - 0s 59ms/step\n",
            "Predicted class: RockFish / True class: RockFish119.png\n",
            "1/1 [==============================] - 0s 110ms/step\n",
            "Predicted class: Gurnard / True class: Gurnard227.png\n",
            "1/1 [==============================] - 0s 103ms/step\n",
            "Predicted class: RockFish / True class: Greenling140.png\n",
            "1/1 [==============================] - 0s 106ms/step\n",
            "Predicted class: Greenling / True class: Greenling24.png\n",
            "1/1 [==============================] - 0s 104ms/step\n",
            "Predicted class: Conger / True class: Conger222.png\n",
            "1/1 [==============================] - 0s 105ms/step\n",
            "Predicted class: BlackBream / True class: BlackBream122.png\n",
            "1/1 [==============================] - 0s 118ms/step\n",
            "Predicted class: Gurnard / True class: Gurnard192.png\n",
            "1/1 [==============================] - 0s 113ms/step\n",
            "Predicted class: Greenling / True class: Hailbut55.jpeg\n",
            "1/1 [==============================] - 0s 71ms/step\n",
            "Predicted class: RockFish / True class: RockFish2.png\n",
            "1/1 [==============================] - 0s 68ms/step\n",
            "Predicted class: BlackBream / True class: RockBream244.png\n",
            "1/1 [==============================] - 0s 70ms/step\n",
            "Predicted class: BlackBream / True class: BlackBream34.png\n",
            "1/1 [==============================] - 0s 69ms/step\n",
            "Predicted class: RockFish / True class: BlackBream3.png\n",
            "1/1 [==============================] - 0s 69ms/step\n",
            "Predicted class: RedBream / True class: RedBream67.png\n",
            "1/1 [==============================] - 0s 79ms/step\n",
            "Predicted class: Gurnard / True class: Gurnard219.png\n",
            "1/1 [==============================] - 0s 76ms/step\n",
            "Predicted class: BlackBream / True class: BlackBream80.png\n",
            "1/1 [==============================] - 0s 77ms/step\n",
            "Predicted class: RockFish / True class: RockFish121.png\n",
            "1/1 [==============================] - 0s 72ms/step\n",
            "Predicted class: Conger / True class: Conger196.png\n",
            "1/1 [==============================] - 0s 73ms/step\n",
            "Predicted class: RockBream / True class: RockBream220.png\n",
            "1/1 [==============================] - 0s 85ms/step\n",
            "Predicted class: BlackBream / True class: Greenling214.png\n",
            "1/1 [==============================] - 0s 71ms/step\n",
            "Predicted class: RedBream / True class: RedBream240.png\n",
            "1/1 [==============================] - 0s 103ms/step\n",
            "Predicted class: RockFish / True class: Greenling38.png\n",
            "1/1 [==============================] - 0s 119ms/step\n",
            "Predicted class: RockFish / True class: RockFish186.png\n",
            "1/1 [==============================] - 0s 120ms/step\n",
            "Predicted class: Conger / True class: Conger208.png\n",
            "1/1 [==============================] - 0s 122ms/step\n",
            "Predicted class: BlackBream / True class: BlackBream139.png\n",
            "1/1 [==============================] - 0s 123ms/step\n",
            "Predicted class: RockFish / True class: RockFish235.png\n",
            "1/1 [==============================] - 0s 108ms/step\n",
            "Predicted class: RockBream / True class: RockBream179.png\n",
            "1/1 [==============================] - 0s 112ms/step\n",
            "Predicted class: BlackBream / True class: BlackBream79.png\n",
            "1/1 [==============================] - 0s 112ms/step\n",
            "Predicted class: RedBream / True class: RedBream47.png\n",
            "1/1 [==============================] - 0s 115ms/step\n",
            "Predicted class: RockFish / True class: RockFish203.png\n",
            "1/1 [==============================] - 0s 76ms/step\n",
            "Predicted class: RedBream / True class: RedBream95.png\n",
            "1/1 [==============================] - 0s 72ms/step\n",
            "Predicted class: Gurnard / True class: Gurnard191.png\n",
            "1/1 [==============================] - 0s 74ms/step\n",
            "Predicted class: Gurnard / True class: Gurnard187.jpeg\n",
            "1/1 [==============================] - 0s 85ms/step\n",
            "Predicted class: RedBream / True class: RedBream96.jpeg\n",
            "1/1 [==============================] - 0s 70ms/step\n",
            "Predicted class: BlackBream / True class: RockFish242.png\n",
            "1/1 [==============================] - 0s 78ms/step\n",
            "Predicted class: RockBream / True class: RockBream117.png\n",
            "1/1 [==============================] - 0s 92ms/step\n",
            "Predicted class: RedBream / True class: RedBream195.png\n",
            "1/1 [==============================] - 0s 71ms/step\n",
            "Predicted class: RockBream / True class: RockBream88.png\n",
            "1/1 [==============================] - 0s 68ms/step\n",
            "Predicted class: RockFish / True class: RockFish254.png\n",
            "1/1 [==============================] - 0s 68ms/step\n",
            "Predicted class: RockFish / True class: RockFish71.png\n",
            "1/1 [==============================] - 0s 68ms/step\n",
            "Predicted class: BlackBream / True class: BlackBream239.png\n",
            "1/1 [==============================] - 0s 75ms/step\n",
            "Predicted class: Halibut / True class: Hailbut223.png\n",
            "1/1 [==============================] - 0s 68ms/step\n",
            "Predicted class: BlackBream / True class: BlackBream51.png\n",
            "1/1 [==============================] - 0s 67ms/step\n",
            "Predicted class: Halibut / True class: Hailbut177.png\n",
            "1/1 [==============================] - 0s 73ms/step\n",
            "Predicted class: RockFish / True class: RockFish1.png\n",
            "1/1 [==============================] - 0s 75ms/step\n",
            "Predicted class: RockFish / True class: BlackBream27.png\n",
            "1/1 [==============================] - 0s 69ms/step\n",
            "Predicted class: Halibut / True class: Hailbut129.png\n",
            "1/1 [==============================] - 0s 75ms/step\n",
            "Predicted class: Halibut / True class: Greenling213.png\n",
            "1/1 [==============================] - 0s 65ms/step\n",
            "Predicted class: Halibut / True class: Hailbut189.png\n",
            "1/1 [==============================] - 0s 70ms/step\n",
            "Predicted class: Halibut / True class: Hailbut127.png\n",
            "1/1 [==============================] - 0s 62ms/step\n",
            "Predicted class: Conger / True class: Conger146.png\n",
            "1/1 [==============================] - 0s 68ms/step\n",
            "Predicted class: Halibut / True class: Hailbut54.png\n",
            "1/1 [==============================] - 0s 76ms/step\n",
            "Predicted class: RockFish / True class: RockFish13.png\n",
            "1/1 [==============================] - 0s 70ms/step\n",
            "Predicted class: BlackBream / True class: BlackBream193.png\n",
            "1/1 [==============================] - 0s 71ms/step\n",
            "Predicted class: Gurnard / True class: Mudskipper64.png\n",
            "1/1 [==============================] - 0s 65ms/step\n",
            "Predicted class: Browncroaker / True class: Browncroader194.png\n",
            "1/1 [==============================] - 0s 68ms/step\n",
            "Predicted class: Sillaginoid / True class: Sillaginoid12.png\n",
            "1/1 [==============================] - 0s 69ms/step\n",
            "Predicted class: Halibut / True class: Hailbut216.png\n",
            "1/1 [==============================] - 0s 63ms/step\n",
            "Predicted class: Gurnard / True class: Gurnard250.png\n",
            "1/1 [==============================] - 0s 63ms/step\n",
            "Predicted class: RockFish / True class: RockFish157.png\n",
            "1/1 [==============================] - 0s 63ms/step\n",
            "Predicted class: Gurnard / True class: Gurnard241.png\n",
            "1/1 [==============================] - 0s 62ms/step\n",
            "Predicted class: Conger / True class: Conger40.png\n",
            "1/1 [==============================] - 0s 75ms/step\n",
            "Predicted class: Conger / True class: Conger158.png\n",
            "1/1 [==============================] - 0s 64ms/step\n",
            "Predicted class: RockFish / True class: RockFish131.jpeg\n",
            "1/1 [==============================] - 0s 61ms/step\n",
            "Predicted class: Gurnard / True class: Gurnard237.png\n",
            "1/1 [==============================] - 0s 61ms/step\n",
            "Predicted class: Conger / True class: Conger81.png\n",
            "1/1 [==============================] - 0s 64ms/step\n",
            "Predicted class: RockFish / True class: RockFish65.png\n",
            "1/1 [==============================] - 0s 65ms/step\n",
            "Predicted class: RockFish / True class: RockFish159.png\n",
            "1/1 [==============================] - 0s 72ms/step\n",
            "Predicted class: RedBream / True class: Gurnard183.png\n",
            "1/1 [==============================] - 0s 61ms/step\n",
            "Predicted class: BlackBream / True class: BlackBream147.png\n",
            "1/1 [==============================] - 0s 62ms/step\n",
            "Predicted class: RedBream / True class: RedBream29.png\n",
            "1/1 [==============================] - 0s 64ms/step\n",
            "Predicted class: BlackBream / True class: BlackBream120.png\n",
            "1/1 [==============================] - 0s 63ms/step\n",
            "Predicted class: Greenling / True class: Greenling142.png\n",
            "1/1 [==============================] - 0s 61ms/step\n",
            "Predicted class: Gurnard / True class: RedBream25.png\n",
            "1/1 [==============================] - 0s 59ms/step\n",
            "Predicted class: Mudskipper / True class: Sillaginoid105.png\n",
            "1/1 [==============================] - 0s 74ms/step\n",
            "Predicted class: RockBream / True class: RockBream6.png\n",
            "1/1 [==============================] - 0s 61ms/step\n",
            "Predicted class: Halibut / True class: Hailbut20.png\n",
            "1/1 [==============================] - 0s 60ms/step\n",
            "Predicted class: BlackBream / True class: BlackBream256.png\n",
            "1/1 [==============================] - 0s 62ms/step\n",
            "Predicted class: Mudskipper / True class: Sillaginoid104.png\n",
            "1/1 [==============================] - 0s 68ms/step\n",
            "Predicted class: RockFish / True class: RockFish248.png\n",
            "1/1 [==============================] - 0s 63ms/step\n",
            "Predicted class: BlackBream / True class: BlackBream236.png\n",
            "1/1 [==============================] - 0s 60ms/step\n",
            "Predicted class: RedBream / True class: RedBream73.png\n",
            "1/1 [==============================] - 0s 61ms/step\n",
            "Predicted class: Gurnard / True class: Greenling138.png\n",
            "1/1 [==============================] - 0s 64ms/step\n",
            "Predicted class: Gurnard / True class: Gurnard46.png\n",
            "1/1 [==============================] - 0s 98ms/step\n",
            "Predicted class: Greenling / True class: Greenling253.png\n",
            "1/1 [==============================] - 0s 109ms/step\n",
            "Predicted class: BlackBream / True class: BlackBream180.png\n",
            "1/1 [==============================] - 0s 103ms/step\n",
            "Predicted class: RockFish / True class: RockFish126.png\n",
            "1/1 [==============================] - 0s 111ms/step\n",
            "Predicted class: Greenling / True class: Greenling185.png\n",
            "1/1 [==============================] - 0s 118ms/step\n",
            "Predicted class: RockFish / True class: RockFish84.png\n",
            "1/1 [==============================] - 0s 105ms/step\n",
            "Predicted class: Halibut / True class: Greenling98.png\n",
            "1/1 [==============================] - 0s 100ms/step\n",
            "Predicted class: RockFish / True class: RockFish198.png\n",
            "1/1 [==============================] - 0s 115ms/step\n",
            "Predicted class: Greenling / True class: Greenling249.png\n",
            "1/1 [==============================] - 0s 105ms/step\n",
            "Predicted class: Halibut / True class: RockBream97.png\n",
            "1/1 [==============================] - 0s 100ms/step\n",
            "Predicted class: RockFish / True class: RockFish61.png\n",
            "1/1 [==============================] - 0s 74ms/step\n",
            "Predicted class: Gurnard / True class: Gurnard28.png\n",
            "1/1 [==============================] - 0s 65ms/step\n",
            "Predicted class: Browncroaker / True class: Browncroader106.png\n",
            "1/1 [==============================] - 0s 71ms/step\n",
            "Predicted class: Gurnard / True class: Gurnard232.png\n",
            "1/1 [==============================] - 0s 71ms/step\n",
            "Predicted class: Mudskipper / True class: Mudskipper202.png\n",
            "1/1 [==============================] - 0s 61ms/step\n",
            "Predicted class: RockFish / True class: BlackBream178.png\n",
            "1/1 [==============================] - 0s 62ms/step\n",
            "Predicted class: Conger / True class: Conger111.png\n",
            "1/1 [==============================] - 0s 64ms/step\n",
            "Predicted class: RockFish / True class: RockBream226.png\n",
            "1/1 [==============================] - 0s 62ms/step\n",
            "Predicted class: Gurnard / True class: Mudskipper15.png\n",
            "1/1 [==============================] - 0s 62ms/step\n",
            "Predicted class: Halibut / True class: Hailbut116.png\n",
            "1/1 [==============================] - 0s 65ms/step\n",
            "Predicted class: RockFish / True class: RedBream17.png\n",
            "1/1 [==============================] - 0s 62ms/step\n",
            "Predicted class: RockFish / True class: Greenling42.png\n",
            "1/1 [==============================] - 0s 64ms/step\n",
            "Predicted class: Conger / True class: Conger133.png\n",
            "1/1 [==============================] - 0s 70ms/step\n",
            "Predicted class: Sillaginoid / True class: Sillaginoid130.png\n",
            "1/1 [==============================] - 0s 60ms/step\n",
            "Predicted class: Greenling / True class: Greenling75.png\n",
            "1/1 [==============================] - 0s 60ms/step\n",
            "Predicted class: RockFish / True class: RockFish263.png\n",
            "1/1 [==============================] - 0s 63ms/step\n",
            "Predicted class: BlackBream / True class: BlackBream243.png\n",
            "1/1 [==============================] - 0s 60ms/step\n",
            "Predicted class: Conger / True class: Conger211.png\n",
            "1/1 [==============================] - 0s 64ms/step\n",
            "Predicted class: RockFish / True class: RockFish21.png\n",
            "1/1 [==============================] - 0s 61ms/step\n",
            "Predicted class: Halibut / True class: Hailbut169.png\n",
            "1/1 [==============================] - 0s 62ms/step\n",
            "Predicted class: Sillaginoid / True class: Sillaginoid151.png\n",
            "1/1 [==============================] - 0s 71ms/step\n",
            "Predicted class: Gurnard / True class: Conger63.png\n",
            "1/1 [==============================] - 0s 63ms/step\n",
            "Predicted class: BlackBream / True class: BlackBream137.png\n",
            "1/1 [==============================] - 0s 66ms/step\n",
            "Predicted class: RedBream / True class: RedBream19.png\n",
            "1/1 [==============================] - 0s 63ms/step\n",
            "Predicted class: RockFish / True class: RockFish163.png\n",
            "1/1 [==============================] - 0s 70ms/step\n",
            "Predicted class: RedBream / True class: RedBream258.png\n",
            "1/1 [==============================] - 0s 62ms/step\n",
            "Predicted class: RockFish / True class: RockFish200.png\n",
            "1/1 [==============================] - 0s 58ms/step\n",
            "Predicted class: RockFish / True class: RockFish221.png\n",
            "1/1 [==============================] - 0s 63ms/step\n",
            "Predicted class: Halibut / True class: Hailbut82.png\n",
            "1/1 [==============================] - 0s 59ms/step\n",
            "Predicted class: Conger / True class: Mudskipper92.png\n",
            "1/1 [==============================] - 0s 65ms/step\n",
            "Predicted class: RockFish / True class: Browncroader44.jpeg\n",
            "1/1 [==============================] - 0s 62ms/step\n",
            "Predicted class: Gurnard / True class: Sillaginoid156.png\n",
            "1/1 [==============================] - 0s 66ms/step\n",
            "Predicted class: Halibut / True class: Hailbut184.png\n",
            "1/1 [==============================] - 0s 78ms/step\n",
            "Predicted class: RockFish / True class: RockFish85.png\n"
          ]
        }
      ]
    },
    {
      "cell_type": "markdown",
      "source": [
        "파일명 영어로 변경  "
      ],
      "metadata": {
        "id": "N1toDd7F7apv"
      }
    },
    {
      "cell_type": "code",
      "source": [
        "prac_path = '/content/practice'\n",
        "prac_list = [file for file in os.listdir(prac_path) if file.endswith(('.jpeg', '.jpg', '.png'))]\n",
        "\n",
        "\n",
        "for i, filename in enumerate(prac_list):\n",
        "    # 파일의 확장자 제거\n",
        "    name, ext = os.path.splitext(filename)\n",
        "\n",
        "    # 파일 이름이 \"감성돔\"으로 시작하는 경우\n",
        "    if name.startswith(\"참돔\"):\n",
        "        # 새로운 파일 이름 생성\n",
        "        new_name = f\"RedBream{i}{ext}\"\n",
        "        os.rename(os.path.join(prac_path, filename), os.path.join(prac_path, new_name))\n",
        "\n",
        "for i, filename in enumerate(prac_list):\n",
        "    # 파일의 확장자 제거\n",
        "    name, ext = os.path.splitext(filename)\n",
        "\n",
        "    # 파일 이름이 \"감성돔\"으로 시작하는 경우\n",
        "    if name.startswith(\"쥐노래미\"):\n",
        "        # 새로운 파일 이름 생성\n",
        "        new_name = f\"Greenling{i}{ext}\"\n",
        "        os.rename(os.path.join(prac_path, filename), os.path.join(prac_path, new_name))\n",
        "\n",
        "for i, filename in enumerate(prac_list):\n",
        "    # 파일의 확장자 제거\n",
        "    name, ext = os.path.splitext(filename)\n",
        "\n",
        "    # 파일 이름이 \"감성돔\"으로 시작하는 경우\n",
        "    if name.startswith(\"우럭\"):\n",
        "        # 새로운 파일 이름 생성\n",
        "        new_name = f\"RockFish{i}{ext}\"\n",
        "        os.rename(os.path.join(prac_path, filename), os.path.join(prac_path, new_name))\n",
        "\n",
        "\n",
        "for i, filename in enumerate(prac_list):\n",
        "    # 파일의 확장자 제거\n",
        "    name, ext = os.path.splitext(filename)\n",
        "\n",
        "    # 파일 이름이 \"감성돔\"으로 시작하는 경우\n",
        "    if name.startswith(\"성대\"):\n",
        "        # 새로운 파일 이름 생성\n",
        "        new_name = f\"Gurnard{i}{ext}\"\n",
        "        os.rename(os.path.join(prac_path, filename), os.path.join(prac_path, new_name))\n",
        "\n",
        "\n",
        "for i, filename in enumerate(prac_list):\n",
        "    # 파일의 확장자 제거\n",
        "    name, ext = os.path.splitext(filename)\n",
        "\n",
        "    # 파일 이름이 \"감성돔\"으로 시작하는 경우\n",
        "    if name.startswith(\"붕장어\"):\n",
        "        # 새로운 파일 이름 생성\n",
        "        new_name = f\"Conger{i}{ext}\"\n",
        "        os.rename(os.path.join(prac_path, filename), os.path.join(prac_path, new_name))\n",
        "\n",
        "\n",
        "for i, filename in enumerate(prac_list):\n",
        "    # 파일의 확장자 제거\n",
        "    name, ext = os.path.splitext(filename)\n",
        "\n",
        "    # 파일 이름이 \"감성돔\"으로 시작하는 경우\n",
        "    if name.startswith(\"보리멸\"):\n",
        "        # 새로운 파일 이름 생성\n",
        "        new_name = f\"Sillaginoid{i}{ext}\"\n",
        "        os.rename(os.path.join(prac_path, filename), os.path.join(prac_path, new_name))\n",
        "\n",
        "\n",
        "for i, filename in enumerate(prac_list):\n",
        "    # 파일의 확장자 제거\n",
        "    name, ext = os.path.splitext(filename)\n",
        "\n",
        "    # 파일 이름이 \"감성돔\"으로 시작하는 경우\n",
        "    if name.startswith(\"민어\"):\n",
        "        # 새로운 파일 이름 생성\n",
        "        new_name = f\"Browncroader{i}{ext}\"\n",
        "        os.rename(os.path.join(prac_path, filename), os.path.join(prac_path, new_name))\n",
        "\n",
        "\n",
        "for i, filename in enumerate(prac_list):\n",
        "    # 파일의 확장자 제거\n",
        "    name, ext = os.path.splitext(filename)\n",
        "\n",
        "    # 파일 이름이 \"감성돔\"으로 시작하는 경우\n",
        "    if name.startswith(\"망둥어\"):\n",
        "        # 새로운 파일 이름 생성\n",
        "        new_name = f\"Mudskipper{i}{ext}\"\n",
        "        os.rename(os.path.join(prac_path, filename), os.path.join(prac_path, new_name))\n",
        "\n",
        "for i, filename in enumerate(prac_list):\n",
        "    # 파일의 확장자 제거\n",
        "    name, ext = os.path.splitext(filename)\n",
        "\n",
        "    # 파일 이름이 \"감성돔\"으로 시작하는 경우\n",
        "    if name.startswith(\"돌돔\"):\n",
        "        # 새로운 파일 이름 생성\n",
        "        new_name = f\"RockBream{i}{ext}\"\n",
        "        os.rename(os.path.join(prac_path, filename), os.path.join(prac_path, new_name))\n",
        "\n",
        "for i, filename in enumerate(prac_list):\n",
        "    # 파일의 확장자 제거\n",
        "    name, ext = os.path.splitext(filename)\n",
        "\n",
        "    # 파일 이름이 \"감성돔\"으로 시작하는 경우\n",
        "    if name.startswith(\"광어\"):\n",
        "        # 새로운 파일 이름 생성\n",
        "        new_name = f\"Hailbut{i}{ext}\"\n",
        "        os.rename(os.path.join(prac_path, filename), os.path.join(prac_path, new_name))\n",
        "\n",
        "for i, filename in enumerate(prac_list):\n",
        "    # 파일의 확장자 제거\n",
        "    name, ext = os.path.splitext(filename)\n",
        "\n",
        "    # 파일 이름이 \"감성돔\"으로 시작하는 경우\n",
        "    if name.startswith(\"감성돔\"):\n",
        "        # 새로운 파일 이름 생성\n",
        "        new_name = f\"BlackBream{i}{ext}\"\n",
        "        os.rename(os.path.join(prac_path, filename), os.path.join(prac_path, new_name))\n",
        "\n"
      ],
      "metadata": {
        "id": "wMt1ym60O-Ba"
      },
      "execution_count": null,
      "outputs": []
    },
    {
      "cell_type": "code",
      "source": [
        "import cv2\n",
        "\n",
        "# 마우스 이벤트 처리 함수\n",
        "def draw_box(event, x, y, flags, param):\n",
        "    global ix, iy, drawing, mode\n",
        "\n",
        "    # 마우스 왼쪽 버튼 눌림\n",
        "    if event == cv2.EVENT_LBUTTONDOWN:\n",
        "        drawing = True\n",
        "        ix, iy = x, y\n",
        "\n",
        "    # 마우스 이동\n",
        "    elif event == cv2.EVENT_MOUSEMOVE:\n",
        "        if drawing == True:\n",
        "            cv2.rectangle(img, (ix, iy), (x, y), (0, 255, 0), 2)\n",
        "\n",
        "    # 마우스 왼쪽 버튼 뗌\n",
        "    elif event == cv2.EVENT_LBUTTONUP:\n",
        "        drawing = False\n",
        "        cv2.rectangle(img, (ix, iy), (x, y), (0, 255, 0), 2)\n",
        "\n",
        "# 이미지 경로 및 클래스 명 설정      \n",
        "img_path = '/content/practice/BlackBream103.png' \n",
        "    \n",
        "# 이미지 읽기\n",
        "img = cv2.imread(img_path)\n",
        "cv2.namedWindow('image')\n",
        "cv2.setMouseCallback('image', draw_box)\n",
        "\n",
        "while(1):\n",
        "    cv2.imshow('image', img)\n",
        "    k = cv2.waitKey(1) & 0xFF\n",
        "    if k == ord('q'):\n",
        "        break\n",
        "    elif k == ord('s'):\n",
        "        cv2.imwrite('boxed_image.jpg', img)\n",
        "        print(\"Image saved as 'boxed_image.jpg'\")\n",
        "\n",
        "cv2.destroyAllWindows()"
      ],
      "metadata": {
        "id": "4I1luIXMexcK"
      },
      "execution_count": null,
      "outputs": []
    }
  ]
}